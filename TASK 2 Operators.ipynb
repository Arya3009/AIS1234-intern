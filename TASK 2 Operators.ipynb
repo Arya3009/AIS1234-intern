{
 "cells": [
  {
   "cell_type": "code",
   "execution_count": 1,
   "id": "573018fc-1bd0-4f25-8472-9f8cf3aeec30",
   "metadata": {},
   "outputs": [
    {
     "name": "stdout",
     "output_type": "stream",
     "text": [
      "14\n",
      "10\n",
      "24\n",
      "6.0\n",
      "0\n",
      "144\n",
      "6\n"
     ]
    }
   ],
   "source": [
    "# Operators in Python \n",
    "# Arithmatic Operator(+,-,*,/,%(modulus),**(power),//(floor division))\n",
    "# Examples\n",
    "a = 12\n",
    "b = 2\n",
    "print(a + b)  # Addition\n",
    "print(a - b)  # Subtraction\n",
    "print(a * b)  # Multiplication\n",
    "print(a / b)  # Division\n",
    "print(a % b)  # Modulus\n",
    "print(a ** b) # Power\n",
    "print(a // b) # Floor Division"
   ]
  },
  {
   "cell_type": "code",
   "execution_count": 5,
   "id": "6ea0d5db-5e2d-4003-b4c7-92c663d86915",
   "metadata": {},
   "outputs": [
    {
     "name": "stdout",
     "output_type": "stream",
     "text": [
      "2.5\n"
     ]
    }
   ],
   "source": [
    "#Assignment Operator\n",
    "#+= value \n",
    "# -= value\n",
    "# *= value\n",
    "# /= value\n",
    "# %= value \n",
    "# Examples\n",
    "a = 10\n",
    "a += 6  # Add and assign\n",
    "a -= 3  # Subtract and assign\n",
    "a *= 2  # Multiply and assign\n",
    "a /= 4  # Divide and assign\n",
    "a %= 4  # Modulus and assign\n",
    "print(a)"
   ]
  },
  {
   "cell_type": "code",
   "execution_count": 6,
   "id": "42be1a09-f412-43d3-974e-a4846e1595f5",
   "metadata": {},
   "outputs": [
    {
     "name": "stdout",
     "output_type": "stream",
     "text": [
      "True\n",
      "True\n",
      "False\n"
     ]
    }
   ],
   "source": [
    "#Logicial Operator \n",
    "#and : Returns True if both statements are true\n",
    "#or : Returns True if one of the statements is true\n",
    "#not : Reverses the result, returns False if the result is true\n",
    "# Examples\n",
    "print(a > b and a < 20)  # Logical AND\n",
    "print(a > b or a < 5)    # Logical OR \n",
    "print(not(a > b))        # Logical NOT\n"
   ]
  },
  {
   "cell_type": "code",
   "execution_count": 7,
   "id": "d8774a29-1e67-4f7b-b413-01fd9015b08f",
   "metadata": {},
   "outputs": [
    {
     "name": "stdout",
     "output_type": "stream",
     "text": [
      "True\n",
      "False\n",
      "True\n",
      "True\n"
     ]
    }
   ],
   "source": [
    "#Identify Operator\n",
    "#is : Returns True if both variables are the same object\n",
    "#is not : Returns True if both variables are not the same object\n",
    "# Examples\n",
    "x = [\"apple\", \"banana\"]\n",
    "y = [\"apple\", \"banana\"]\n",
    "z = x\n",
    "print(x is z)        # z is the same object as x\n",
    "print(x is y)        # x is not the same object as y\n",
    "print(x == y)        #  x is equal to y\n",
    "print(x is not y)    # x is not the same object as y"
   ]
  },
  {
   "cell_type": "code",
   "execution_count": 8,
   "id": "a761dc53-d67d-4d95-aa09-7cd2e5cf112f",
   "metadata": {},
   "outputs": [
    {
     "name": "stdout",
     "output_type": "stream",
     "text": [
      "True\n",
      "True\n"
     ]
    }
   ],
   "source": [
    "# Membership Operator \n",
    "#in : Returns True when right side operands is present in left side object\n",
    "#not in : Returns True when right side operands is not present in left side object\n",
    "# Examples \n",
    "# Examples\n",
    "fruits = [\"apple\", \"banana\"]\n",
    "print(\"banana\" in fruits)        \n",
    "print(\"cherry\" not in fruits)"
   ]
  },
  {
   "cell_type": "code",
   "execution_count": 9,
   "id": "52245765-8ab4-4777-a853-7243828011d9",
   "metadata": {},
   "outputs": [
    {
     "name": "stdout",
     "output_type": "stream",
     "text": [
      "False\n",
      "True\n",
      "True\n",
      "False\n",
      "True\n",
      "False\n"
     ]
    }
   ],
   "source": [
    "# Comparison Operator \n",
    "#== : Equal to\n",
    "#!= : Not equal to\n",
    "#> : Greater than\n",
    "#< : Less than\n",
    "#>= : Greater than or equal to\n",
    "#<= : Less than or equal to\n",
    "# Examples\n",
    "print(a == b)  # Equal to\n",
    "print(a != b)  # Not equal to\n",
    "print(a > b)   # Greater than\n",
    "print(a < b)   # Less than\n",
    "print(a >= b)  # Greater than or equal to\n",
    "print(a <= b)  # Less than or equal to"
   ]
  },
  {
   "cell_type": "code",
   "execution_count": null,
   "id": "cf78b0e1-998a-4fc3-bcef-c4b01c142690",
   "metadata": {},
   "outputs": [],
   "source": []
  }
 ],
 "metadata": {
  "kernelspec": {
   "display_name": "Python 3 (ipykernel)",
   "language": "python",
   "name": "python3"
  },
  "language_info": {
   "codemirror_mode": {
    "name": "ipython",
    "version": 3
   },
   "file_extension": ".py",
   "mimetype": "text/x-python",
   "name": "python",
   "nbconvert_exporter": "python",
   "pygments_lexer": "ipython3",
   "version": "3.11.7"
  }
 },
 "nbformat": 4,
 "nbformat_minor": 5
}

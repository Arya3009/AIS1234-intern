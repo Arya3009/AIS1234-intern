{
 "cells": [
  {
   "cell_type": "code",
   "execution_count": 5,
   "id": "c6cedd60-cf43-4fcb-8e5d-a394d68db37c",
   "metadata": {},
   "outputs": [
    {
     "name": "stdout",
     "output_type": "stream",
     "text": [
      "[4 5 3 5 2 5 4 3 5 7]\n"
     ]
    }
   ],
   "source": [
    "import numpy as np\n",
    "from numpy import random\n",
    "#generate from binomial distribution\n",
    "x = random.binomial(n=10, p=0.5, size=10)\n",
    "print(x)"
   ]
  },
  {
   "cell_type": "code",
   "execution_count": 6,
   "id": "46aea791-86ba-4120-98be-a3355d09ce61",
   "metadata": {},
   "outputs": [
    {
     "name": "stdout",
     "output_type": "stream",
     "text": [
      "[2 1 1 0 2 0 5 0 0 1]\n"
     ]
    }
   ],
   "source": [
    "#generate from poission distribution\n",
    "y = random.poisson(lam=2, size=10)\n",
    "print(y)"
   ]
  },
  {
   "cell_type": "code",
   "execution_count": 7,
   "id": "42f08611-69d9-4d01-9068-5c5100656355",
   "metadata": {},
   "outputs": [
    {
     "name": "stdout",
     "output_type": "stream",
     "text": [
      "[[0.50600298 0.4028009  0.99040177]]\n"
     ]
    }
   ],
   "source": [
    "#generate from uniform distribution\n",
    "z = random.uniform(size=(1,3))\n",
    "print(z)"
   ]
  },
  {
   "cell_type": "code",
   "execution_count": 8,
   "id": "6bcaf4bb-a5dd-43ca-8d91-9094682cd14e",
   "metadata": {},
   "outputs": [
    {
     "name": "stdout",
     "output_type": "stream",
     "text": [
      "[[ 1.28381902 -4.75830513  0.1400103 ]\n",
      " [-5.07215957  0.14052933  4.60249851]]\n"
     ]
    }
   ],
   "source": [
    "# logistic distribution\n",
    "x = random.logistic(loc=1, scale=2, size=(2, 3))\n",
    "print(x)"
   ]
  },
  {
   "cell_type": "code",
   "execution_count": 9,
   "id": "e3a03fdc-c151-4a96-88a2-2d0495aa5fc0",
   "metadata": {},
   "outputs": [
    {
     "name": "stdout",
     "output_type": "stream",
     "text": [
      "[0 1 1 1 1 2]\n"
     ]
    }
   ],
   "source": [
    "#generte random number from multinomial distribution\n",
    "x = random.multinomial(n=6, pvals=[1/6, 1/6, 1/6, 1/6, 1/6, 1/6])\n",
    "print(x)"
   ]
  },
  {
   "cell_type": "code",
   "execution_count": null,
   "id": "d6c88b3d-9193-47e3-9fef-88b6cc63fd68",
   "metadata": {},
   "outputs": [],
   "source": [
    "# exponential distribution\n",
    "x = random.exponential(scale=2, size=(2, 3))\n",
    "print(x)"
   ]
  },
  {
   "cell_type": "code",
   "execution_count": 10,
   "id": "5a4747e6-6907-4d8f-9d23-0cc087ccf293",
   "metadata": {},
   "outputs": [
    {
     "name": "stdout",
     "output_type": "stream",
     "text": [
      "[[1.49548157 3.79187826 2.6091746 ]\n",
      " [0.84212916 3.78607924 1.1561579 ]]\n"
     ]
    }
   ],
   "source": [
    "#chi-square distribution\n",
    "x = random.chisquare(df=2, size=(2, 3))\n",
    "print(x)"
   ]
  },
  {
   "cell_type": "code",
   "execution_count": null,
   "id": "a7018f5f-aae4-4946-bb6b-87bdc3b7d740",
   "metadata": {},
   "outputs": [],
   "source": [
    "#rayleigh distribution\n",
    "x = random.rayleigh(scale=2, size=(2, 3))\n",
    "print(x)"
   ]
  },
  {
   "cell_type": "code",
   "execution_count": 11,
   "id": "89963357-402e-48f8-bb74-3fe8a7a80a98",
   "metadata": {},
   "outputs": [
    {
     "name": "stdout",
     "output_type": "stream",
     "text": [
      "[[0.44723134 0.16987642 1.07561373]\n",
      " [0.24383295 0.60178377 0.40388311]]\n"
     ]
    }
   ],
   "source": [
    "#pareto distribution\n",
    "x = random.pareto(a=2, size=(2, 3))\n",
    "print(x)"
   ]
  },
  {
   "cell_type": "code",
   "execution_count": 12,
   "id": "3ff27619-db7a-41a3-855e-1780fe38dbcd",
   "metadata": {},
   "outputs": [
    {
     "name": "stdout",
     "output_type": "stream",
     "text": [
      "[[-0.56901035  2.23886923  1.58269396]\n",
      " [-0.94669026  0.18464336 -2.95933385]]\n",
      "[-0.56901035  2.23886923  1.58269396 -0.94669026  0.18464336 -2.95933385]\n"
     ]
    }
   ],
   "source": [
    "#reshape\n",
    "x = random.normal(size=(2, 3))\n",
    "print(x)\n",
    "y = random.normal(size=(2, 3))\n",
    "newx =x.reshape(-1)\n",
    "print(newx)"
   ]
  },
  {
   "cell_type": "code",
   "execution_count": 13,
   "id": "b863b7fb-4fe8-410b-a403-6b2fbd54928f",
   "metadata": {},
   "outputs": [
    {
     "name": "stdout",
     "output_type": "stream",
     "text": [
      "[4 2 5 1 3]\n"
     ]
    }
   ],
   "source": [
    "#permutation\n",
    "arr = np.array([1, 2, 3, 4, 5])\n",
    "print(random.permutation(arr))"
   ]
  },
  {
   "cell_type": "code",
   "execution_count": 14,
   "id": "4738f3b1-8a69-4cc2-880f-5a78da612dff",
   "metadata": {},
   "outputs": [
    {
     "name": "stdout",
     "output_type": "stream",
     "text": [
      "[4 1 3 2 5]\n"
     ]
    }
   ],
   "source": [
    "#shuffle\n",
    "arr = np.array([1, 2, 3, 4, 5])\n",
    "random.shuffle(arr)\n",
    "print(arr)"
   ]
  },
  {
   "cell_type": "code",
   "execution_count": 15,
   "id": "e864fe9f-3770-431d-a0d0-b1cf56f99f16",
   "metadata": {},
   "outputs": [
    {
     "name": "stdout",
     "output_type": "stream",
     "text": [
      "7\n"
     ]
    }
   ],
   "source": [
    "#choice\n",
    "y= random.choice([3, 5, 7, 9])\n",
    "print(y)"
   ]
  }
 ],
 "metadata": {
  "kernelspec": {
   "display_name": "Python 3 (ipykernel)",
   "language": "python",
   "name": "python3"
  },
  "language_info": {
   "codemirror_mode": {
    "name": "ipython",
    "version": 3
   },
   "file_extension": ".py",
   "mimetype": "text/x-python",
   "name": "python",
   "nbconvert_exporter": "python",
   "pygments_lexer": "ipython3",
   "version": "3.11.7"
  }
 },
 "nbformat": 4,
 "nbformat_minor": 5
}

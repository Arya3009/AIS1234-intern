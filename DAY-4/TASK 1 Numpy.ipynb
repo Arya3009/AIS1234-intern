{
 "cells": [
  {
   "cell_type": "code",
   "execution_count": 3,
   "id": "149bf02e-29e8-4f62-9217-c20b69aec0ad",
   "metadata": {},
   "outputs": [
    {
     "name": "stdout",
     "output_type": "stream",
     "text": [
      "[1 2 3 4 5]\n"
     ]
    }
   ],
   "source": [
    "#NumPy is a python library \n",
    "import numpy as np # this is main library and we need to import it first.\n",
    "\n",
    "#create a array using NumPy\n",
    "arr = np.array([1, 2, 3, 4, 5])\n",
    "print(arr)"
   ]
  },
  {
   "cell_type": "code",
   "execution_count": null,
   "id": "02ac6f7d-5b00-431b-8e8e-c957e10298ed",
   "metadata": {},
   "outputs": [],
   "source": [
    "#check the type of an obejct \n",
    "type(arr)"
   ]
  },
  {
   "cell_type": "code",
   "execution_count": 3,
   "id": "04784660-2202-420b-b8d6-26feab6fc20f",
   "metadata": {},
   "outputs": [
    {
     "data": {
      "text/plain": [
       "array([12, 56, 23, 45, 78])"
      ]
     },
     "execution_count": 3,
     "metadata": {},
     "output_type": "execute_result"
    }
   ],
   "source": [
    "#convert a list into numpy \n",
    "list1 = [12,56,23,45,78]\n",
    "arr1 = np.array(list1)\n",
    "arr1"
   ]
  },
  {
   "cell_type": "code",
   "execution_count": 4,
   "id": "45a6deff-32d7-4153-97ec-8cc8b797f23a",
   "metadata": {},
   "outputs": [
    {
     "data": {
      "text/plain": [
       "<memory at 0x000001F237C56B00>"
      ]
     },
     "execution_count": 4,
     "metadata": {},
     "output_type": "execute_result"
    }
   ],
   "source": [
    "#Memory address of an array object\n",
    "arr1.data"
   ]
  },
  {
   "cell_type": "code",
   "execution_count": 6,
   "id": "e59e8266-1082-40aa-97ab-3f94fbd760f6",
   "metadata": {},
   "outputs": [
    {
     "data": {
      "text/plain": [
       "3"
      ]
     },
     "execution_count": 6,
     "metadata": {},
     "output_type": "execute_result"
    }
   ],
   "source": [
    "# to check the dimension of array \n",
    "d=np.array([[[1,2,3],[4,5,6]],[[1,2,3],[4,5,6]]])\n",
    "d.ndim"
   ]
  },
  {
   "cell_type": "code",
   "execution_count": 33,
   "id": "27338c85-b4ec-4220-8135-039d2d45dcd3",
   "metadata": {},
   "outputs": [
    {
     "name": "stdout",
     "output_type": "stream",
     "text": [
      "[[[1 2 3 4]]]\n",
      "shape of array: (1, 1, 4)\n"
     ]
    }
   ],
   "source": [
    "# to change the dimension \n",
    "a = np.array([1,2,3,4],ndmin=3)\n",
    "print(a)\n",
    "print('shape of array:',a.shape)"
   ]
  },
  {
   "cell_type": "code",
   "execution_count": 10,
   "id": "d2c16a87-af41-4d60-9d70-93059859f2c9",
   "metadata": {},
   "outputs": [
    {
     "data": {
      "text/plain": [
       "array([[[1., 2., 3.],\n",
       "        [4., 5., 6.]],\n",
       "\n",
       "       [[1., 2., 3.],\n",
       "        [4., 5., 6.]]])"
      ]
     },
     "execution_count": 10,
     "metadata": {},
     "output_type": "execute_result"
    }
   ],
   "source": [
    "#Datatype of array\n",
    "d.dtype    # Convert Integer Array to FLOAT\n",
    "d.astype(float)"
   ]
  },
  {
   "cell_type": "code",
   "execution_count": 12,
   "id": "cf06b9cb-0e03-4251-8fe2-4852c0bb2e16",
   "metadata": {},
   "outputs": [
    {
     "data": {
      "text/plain": [
       "dtype('int32')"
      ]
     },
     "execution_count": 12,
     "metadata": {},
     "output_type": "execute_result"
    }
   ],
   "source": [
    "# Datatype of object\n",
    "d.dtype"
   ]
  },
  {
   "cell_type": "code",
   "execution_count": 15,
   "id": "28964d81-8d93-4da6-8c28-cae309835085",
   "metadata": {},
   "outputs": [
    {
     "data": {
      "text/plain": [
       "5"
      ]
     },
     "execution_count": 15,
     "metadata": {},
     "output_type": "execute_result"
    }
   ],
   "source": [
    "# Length of array\n",
    "len(arr1)"
   ]
  },
  {
   "cell_type": "code",
   "execution_count": 16,
   "id": "b109b988-012a-4753-a45d-dc25049f35ed",
   "metadata": {},
   "outputs": [
    {
     "data": {
      "text/plain": [
       "array([0, 1, 2, 3, 4, 5, 6, 7, 8, 9])"
      ]
     },
     "execution_count": 16,
     "metadata": {},
     "output_type": "execute_result"
    }
   ],
   "source": [
    "# Generate evenly spaced numbers (space =1) between 0 to 10\n",
    "np.arange(0,10)"
   ]
  },
  {
   "cell_type": "code",
   "execution_count": 18,
   "id": "fa027945-5084-433e-b050-10e9565e9c61",
   "metadata": {},
   "outputs": [
    {
     "data": {
      "text/plain": [
       "array([ 0,  4,  8, 12, 16, 20, 24, 28, 32, 36, 40, 44, 48, 52, 56, 60, 64,\n",
       "       68, 72, 76, 80, 84, 88, 92, 96])"
      ]
     },
     "execution_count": 18,
     "metadata": {},
     "output_type": "execute_result"
    }
   ],
   "source": [
    "# Generate numbers between 0 to 100 with a space of 4\n",
    "np.arange(0,100,4)"
   ]
  },
  {
   "cell_type": "code",
   "execution_count": 20,
   "id": "c02ae355-4bfe-4b02-b9d7-d101562d0cc0",
   "metadata": {},
   "outputs": [
    {
     "data": {
      "text/plain": [
       "array([100,  95,  90,  85,  80,  75,  70,  65,  60,  55,  50,  45,  40,\n",
       "        35,  30,  25,  20,  15])"
      ]
     },
     "execution_count": 20,
     "metadata": {},
     "output_type": "execute_result"
    }
   ],
   "source": [
    "# Generate numbers between 10 to 100 with a space of 5 in descending order\n",
    "np.arange(100, 10, -5)"
   ]
  },
  {
   "cell_type": "code",
   "execution_count": 25,
   "id": "bd64cc4c-bc97-4101-a1a5-bd6221d49362",
   "metadata": {},
   "outputs": [
    {
     "name": "stdout",
     "output_type": "stream",
     "text": [
      "[ 1  2  3  4  5  6  7  8  9 10 11 12 13 14 15 16 17 18 19]\n"
     ]
    },
    {
     "data": {
      "text/plain": [
       "(19,)"
      ]
     },
     "execution_count": 25,
     "metadata": {},
     "output_type": "execute_result"
    }
   ],
   "source": [
    "#Shape of Array\n",
    "arr2 = np.arange(1,20)\n",
    "print(arr2)\n",
    "arr2.shape"
   ]
  },
  {
   "cell_type": "code",
   "execution_count": 26,
   "id": "5a533ae0-ba09-4b34-9712-d7319bb4b2bc",
   "metadata": {},
   "outputs": [
    {
     "data": {
      "text/plain": [
       "array([0., 0., 0., 0., 0.])"
      ]
     },
     "execution_count": 26,
     "metadata": {},
     "output_type": "execute_result"
    }
   ],
   "source": [
    "# Generate an array of zeros\n",
    "np.zeros(5)"
   ]
  },
  {
   "cell_type": "code",
   "execution_count": 27,
   "id": "c79cf4b6-61c3-4f61-ab66-6c42c280742d",
   "metadata": {},
   "outputs": [
    {
     "data": {
      "text/plain": [
       "array([10, 10, 10, 10, 10, 10, 10, 10, 10, 10])"
      ]
     },
     "execution_count": 27,
     "metadata": {},
     "output_type": "execute_result"
    }
   ],
   "source": [
    "# Repeat 10 ten times in an array\n",
    "np.repeat(10,10)"
   ]
  },
  {
   "cell_type": "code",
   "execution_count": 28,
   "id": "4ac23d25-c31d-4eaf-a03f-079132904337",
   "metadata": {},
   "outputs": [
    {
     "data": {
      "text/plain": [
       "array([10, 10, 10, 10, 10])"
      ]
     },
     "execution_count": 28,
     "metadata": {},
     "output_type": "execute_result"
    }
   ],
   "source": [
    "# Array of 10\n",
    "np.full(5,10)"
   ]
  },
  {
   "cell_type": "code",
   "execution_count": 30,
   "id": "a9181979-6513-4d5e-a7fa-e18e59dadf1c",
   "metadata": {},
   "outputs": [
    {
     "data": {
      "text/plain": [
       "array([ 2,  4,  6,  8, 10, 12, 14, 16, 18])"
      ]
     },
     "execution_count": 30,
     "metadata": {},
     "output_type": "execute_result"
    }
   ],
   "source": [
    "# Generate array of even numbers\n",
    "arr3 = np.arange(1,20)\n",
    "arr3[arr3%2 == 0]"
   ]
  },
  {
   "cell_type": "code",
   "execution_count": 31,
   "id": "d6ec7065-0350-4ecf-9202-3ba20c069468",
   "metadata": {},
   "outputs": [
    {
     "data": {
      "text/plain": [
       "array([0.65025653, 0.48655778, 0.78547999, 0.06895809])"
      ]
     },
     "execution_count": 31,
     "metadata": {},
     "output_type": "execute_result"
    }
   ],
   "source": [
    "# Create an array of random values\n",
    "np.random.random(4)"
   ]
  },
  {
   "cell_type": "code",
   "execution_count": 34,
   "id": "63f80ecc-e884-43c1-a194-ee36a8b60de8",
   "metadata": {},
   "outputs": [
    {
     "data": {
      "text/plain": [
       "array([70, 99, 74, 54, 44, 29, 88, 47, 52, 44])"
      ]
     },
     "execution_count": 34,
     "metadata": {},
     "output_type": "execute_result"
    }
   ],
   "source": [
    "# Generate an array of Random Integer numbers\n",
    "np.random.randint(0,100,10)"
   ]
  },
  {
   "cell_type": "code",
   "execution_count": 37,
   "id": "22df287f-0b8d-4a2e-8881-a0911403aebd",
   "metadata": {},
   "outputs": [
    {
     "data": {
      "text/plain": [
       "array([11, 27,  6, 49,  2])"
      ]
     },
     "execution_count": 37,
     "metadata": {},
     "output_type": "execute_result"
    }
   ],
   "source": [
    "# Using random.seed we can generate same number of Random numbers\n",
    "np.random.seed(12)\n",
    "np.random.randint(0,50,5)"
   ]
  },
  {
   "cell_type": "code",
   "execution_count": 40,
   "id": "f78d0f04-a437-4c93-9b55-bdd426c35882",
   "metadata": {},
   "outputs": [
    {
     "data": {
      "text/plain": [
       "array([9.26367771, 5.01129617, 7.60613014, 7.76018817, 7.42688707,\n",
       "       8.84067077, 5.80358377, 8.82280225, 5.10404899, 5.67605089])"
      ]
     },
     "execution_count": 40,
     "metadata": {},
     "output_type": "execute_result"
    }
   ],
   "source": [
    "# Generate array of Random float numbers\n",
    "f = np.random.uniform(5,10, size=(10))\n",
    "f"
   ]
  },
  {
   "cell_type": "code",
   "execution_count": 41,
   "id": "3bb0144f-ea1b-422b-a7f1-9c86d13b4c0b",
   "metadata": {},
   "outputs": [
    {
     "data": {
      "text/plain": [
       "array([9., 5., 7., 7., 7., 8., 5., 8., 5., 5.])"
      ]
     },
     "execution_count": 41,
     "metadata": {},
     "output_type": "execute_result"
    }
   ],
   "source": [
    "# Extract Integer part\n",
    "np.floor(f)"
   ]
  },
  {
   "cell_type": "code",
   "execution_count": 42,
   "id": "63473710-a326-4cee-bef3-7755bd4a8a33",
   "metadata": {},
   "outputs": [
    {
     "data": {
      "text/plain": [
       "array([9., 5., 7., 7., 7., 8., 5., 8., 5., 5.])"
      ]
     },
     "execution_count": 42,
     "metadata": {},
     "output_type": "execute_result"
    }
   ],
   "source": [
    "# Truncate decimal part\n",
    "np.trunc(f)"
   ]
  },
  {
   "cell_type": "code",
   "execution_count": 43,
   "id": "b725d3f7-b798-461e-a457-5e1d86be0fe7",
   "metadata": {},
   "outputs": [
    {
     "data": {
      "text/plain": [
       "array([9, 5, 7, 7, 7, 8, 5, 8, 5, 5])"
      ]
     },
     "execution_count": 43,
     "metadata": {},
     "output_type": "execute_result"
    }
   ],
   "source": [
    "# Convert Float Array to Integer array\n",
    "f.astype(int)"
   ]
  },
  {
   "cell_type": "code",
   "execution_count": 44,
   "id": "6aa2e813-3e94-41ca-bd2e-3895500e713a",
   "metadata": {},
   "outputs": [
    {
     "data": {
      "text/plain": [
       "array([-0.34947094, -0.70541676, -0.34018626,  2.02729871, -0.58108011,\n",
       "        0.87313484,  0.91056528,  1.04764561, -1.18963857, -1.24056205])"
      ]
     },
     "execution_count": 44,
     "metadata": {},
     "output_type": "execute_result"
    }
   ],
   "source": [
    "# Random numbers from standard Normal distribution \n",
    "b2 =np.random.randn(10)\n",
    "b2"
   ]
  },
  {
   "cell_type": "code",
   "execution_count": 45,
   "id": "05c5e014-8385-4390-9b88-1cfdd7195e2e",
   "metadata": {},
   "outputs": [
    {
     "name": "stdout",
     "output_type": "stream",
     "text": [
      "(0,) 12\n",
      "(1,) 56\n",
      "(2,) 23\n",
      "(3,) 45\n",
      "(4,) 78\n"
     ]
    }
   ],
   "source": [
    "# Enumerate for Numpy Arrays\n",
    "for index, value in np.ndenumerate(arr1):\n",
    " print(index, value)"
   ]
  },
  {
   "cell_type": "markdown",
   "id": "ae29f15c-2049-41de-a345-92e67814a224",
   "metadata": {},
   "source": [
    "**Operations on array**"
   ]
  },
  {
   "cell_type": "code",
   "execution_count": 47,
   "id": "a68bf8dc-3b53-4f88-b944-8c94477ad1cd",
   "metadata": {},
   "outputs": [
    {
     "data": {
      "text/plain": [
       "15"
      ]
     },
     "execution_count": 47,
     "metadata": {},
     "output_type": "execute_result"
    }
   ],
   "source": [
    "# Sum of all elements in an array\n",
    "arr.sum()"
   ]
  },
  {
   "cell_type": "code",
   "execution_count": 49,
   "id": "5c2bdc15-79c5-4958-90a9-415c625c1f15",
   "metadata": {},
   "outputs": [
    {
     "data": {
      "text/plain": [
       "array([ 1,  3,  6, 10, 15])"
      ]
     },
     "execution_count": 49,
     "metadata": {},
     "output_type": "execute_result"
    }
   ],
   "source": [
    "# Cumulative Sum\n",
    "np.cumsum(arr)"
   ]
  },
  {
   "cell_type": "code",
   "execution_count": 50,
   "id": "19d6ca15-0638-4da0-b64a-5f9396b422c7",
   "metadata": {},
   "outputs": [
    {
     "data": {
      "text/plain": [
       "1"
      ]
     },
     "execution_count": 50,
     "metadata": {},
     "output_type": "execute_result"
    }
   ],
   "source": [
    "# Find Minimum number in an array\n",
    "arr.min()"
   ]
  },
  {
   "cell_type": "code",
   "execution_count": 51,
   "id": "fab73227-e6ac-4006-9eec-d3c7f0a11c49",
   "metadata": {},
   "outputs": [
    {
     "data": {
      "text/plain": [
       "5"
      ]
     },
     "execution_count": 51,
     "metadata": {},
     "output_type": "execute_result"
    }
   ],
   "source": [
    "# Find MAX number in an array\n",
    "arr.max()"
   ]
  },
  {
   "cell_type": "code",
   "execution_count": 52,
   "id": "5d7f8e0c-c09b-484d-95f6-7d50feb5185e",
   "metadata": {},
   "outputs": [
    {
     "data": {
      "text/plain": [
       "0"
      ]
     },
     "execution_count": 52,
     "metadata": {},
     "output_type": "execute_result"
    }
   ],
   "source": [
    "# Find INDEX of Minimum number in an array\n",
    "arr.argmin()"
   ]
  },
  {
   "cell_type": "code",
   "execution_count": 54,
   "id": "cc5b4b13-8e69-4393-8136-ebf852cb7fe3",
   "metadata": {},
   "outputs": [
    {
     "data": {
      "text/plain": [
       "4"
      ]
     },
     "execution_count": 54,
     "metadata": {},
     "output_type": "execute_result"
    }
   ],
   "source": [
    "# Find INDEX of MAX number in an array\n",
    "arr.argmax()"
   ]
  },
  {
   "cell_type": "code",
   "execution_count": 55,
   "id": "a2637ca1-e738-4c91-afd2-7b64723a334c",
   "metadata": {},
   "outputs": [
    {
     "data": {
      "text/plain": [
       "3.0"
      ]
     },
     "execution_count": 55,
     "metadata": {},
     "output_type": "execute_result"
    }
   ],
   "source": [
    "# Find mean of all numbers in an array\n",
    "arr.mean()"
   ]
  },
  {
   "cell_type": "code",
   "execution_count": 56,
   "id": "d34d4d7a-60e9-41db-806e-e56589081d3f",
   "metadata": {},
   "outputs": [
    {
     "data": {
      "text/plain": [
       "3.0"
      ]
     },
     "execution_count": 56,
     "metadata": {},
     "output_type": "execute_result"
    }
   ],
   "source": [
    "# Find median of all numbers present in arr2\n",
    "np.median(arr)"
   ]
  },
  {
   "cell_type": "code",
   "execution_count": 57,
   "id": "f348b3b9-6d34-4399-a4c2-d36c99c6983c",
   "metadata": {},
   "outputs": [
    {
     "data": {
      "text/plain": [
       "2.0"
      ]
     },
     "execution_count": 57,
     "metadata": {},
     "output_type": "execute_result"
    }
   ],
   "source": [
    "# Variance\n",
    "np.var(arr)"
   ]
  },
  {
   "cell_type": "code",
   "execution_count": 58,
   "id": "dfbfa388-a48b-4053-85af-ad0dbe1abf60",
   "metadata": {},
   "outputs": [
    {
     "data": {
      "text/plain": [
       "1.4142135623730951"
      ]
     },
     "execution_count": 58,
     "metadata": {},
     "output_type": "execute_result"
    }
   ],
   "source": [
    "# Standard deviation\n",
    "np.std(arr)"
   ]
  },
  {
   "cell_type": "code",
   "execution_count": 59,
   "id": "077bb877-a3f8-46b1-aa01-e438bb492784",
   "metadata": {},
   "outputs": [
    {
     "data": {
      "text/plain": [
       "3.8"
      ]
     },
     "execution_count": 59,
     "metadata": {},
     "output_type": "execute_result"
    }
   ],
   "source": [
    "# Calculating percentiles\n",
    "np.percentile(arr,70)"
   ]
  },
  {
   "cell_type": "code",
   "execution_count": 61,
   "id": "c67f3ce8-1f97-4f76-9f38-df537b888b53",
   "metadata": {},
   "outputs": [
    {
     "name": "stdout",
     "output_type": "stream",
     "text": [
      "(0, 0, 0) 1\n",
      "(0, 0, 1) 2\n",
      "(0, 0, 2) 3\n",
      "(0, 1, 0) 4\n",
      "(0, 1, 1) 5\n",
      "(0, 1, 2) 6\n",
      "(1, 0, 0) 1\n",
      "(1, 0, 1) 2\n",
      "(1, 0, 2) 3\n",
      "(1, 1, 0) 4\n",
      "(1, 1, 1) 5\n",
      "(1, 1, 2) 6\n"
     ]
    }
   ],
   "source": [
    "# Enumerate for Numpy Arrays\n",
    "for index, value in np.ndenumerate(d):\n",
    " print(index, value)"
   ]
  },
  {
   "cell_type": "code",
   "execution_count": 62,
   "id": "fd57ed7a-b5de-466e-bf67-2ff05fe4e687",
   "metadata": {},
   "outputs": [
    {
     "name": "stdout",
     "output_type": "stream",
     "text": [
      "[7 5 3 9 0 2]\n"
     ]
    },
    {
     "data": {
      "text/plain": [
       "7"
      ]
     },
     "execution_count": 62,
     "metadata": {},
     "output_type": "execute_result"
    }
   ],
   "source": [
    "# reading element in an array \n",
    "a = np.array([7,5,3,9,0,2])\n",
    "print(a)\n",
    "# Access first element of the array\n",
    "a[0]"
   ]
  },
  {
   "cell_type": "code",
   "execution_count": 63,
   "id": "21ca9996-71fc-4244-95fc-5241a1459a09",
   "metadata": {},
   "outputs": [
    {
     "name": "stdout",
     "output_type": "stream",
     "text": [
      "[5 6 7 8 9]\n"
     ]
    }
   ],
   "source": [
    "#slicing of an array\n",
    "arr = np.array([1, 2, 3, 4, 5, 6, 7, 8, 9])\n",
    "print(arr[4:])"
   ]
  },
  {
   "cell_type": "code",
   "execution_count": null,
   "id": "b23782f2-a69a-499b-8217-532972fb1101",
   "metadata": {},
   "outputs": [],
   "source": [
    "# negative slicing\n",
    "print(arr[-3:-1])"
   ]
  },
  {
   "cell_type": "code",
   "execution_count": 64,
   "id": "bd519f19-a34e-453f-922f-b53e9b9f6544",
   "metadata": {},
   "outputs": [
    {
     "name": "stdout",
     "output_type": "stream",
     "text": [
      "[1 3 5 7]\n"
     ]
    }
   ],
   "source": [
    "#slicing of an array in 2 steps \n",
    "arr = np.array([1, 2, 3, 4, 5, 6, 7])\n",
    "print(arr[::2])"
   ]
  },
  {
   "cell_type": "code",
   "execution_count": 4,
   "id": "fd54d79f-b9e0-4e5d-9a1a-c5a5d5cd5a33",
   "metadata": {},
   "outputs": [
    {
     "name": "stdout",
     "output_type": "stream",
     "text": [
      "[1 3 3 4 5 7 8 9]\n"
     ]
    }
   ],
   "source": [
    "# sorting in Assending order (By-default)\n",
    "x=np.array([1,4,5,7,3,8,3,9])\n",
    "y=np.sort(x)\n",
    "print(y)"
   ]
  },
  {
   "cell_type": "code",
   "execution_count": 5,
   "id": "2098733b-1446-4f8a-b0c5-a084fda0852d",
   "metadata": {},
   "outputs": [
    {
     "name": "stdout",
     "output_type": "stream",
     "text": [
      "[9 8 7 5 4 3 3 1]\n"
     ]
    }
   ],
   "source": [
    "# To sorting in Desending order\n",
    "x=np.array([1,4,5,7,3,8,3,9])\n",
    "y=np.sort(x)[::-1]\n",
    "print(y)"
   ]
  },
  {
   "cell_type": "code",
   "execution_count": 6,
   "id": "db92df44-d9cd-4b0b-8d19-479d1679c407",
   "metadata": {},
   "outputs": [
    {
     "name": "stdout",
     "output_type": "stream",
     "text": [
      "[0 4 6 1 2 3 5 7]\n"
     ]
    }
   ],
   "source": [
    "x=np.array([1,4,5,7,3,8,3,9])\n",
    "y=np.argsort(x)\n",
    "print(y)"
   ]
  }
 ],
 "metadata": {
  "kernelspec": {
   "display_name": "Python 3 (ipykernel)",
   "language": "python",
   "name": "python3"
  },
  "language_info": {
   "codemirror_mode": {
    "name": "ipython",
    "version": 3
   },
   "file_extension": ".py",
   "mimetype": "text/x-python",
   "name": "python",
   "nbconvert_exporter": "python",
   "pygments_lexer": "ipython3",
   "version": "3.11.7"
  }
 },
 "nbformat": 4,
 "nbformat_minor": 5
}

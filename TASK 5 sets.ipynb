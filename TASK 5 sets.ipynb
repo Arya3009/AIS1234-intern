{
 "cells": [
  {
   "cell_type": "code",
   "execution_count": 1,
   "id": "39c9b2fc-802a-4a0b-8f71-203d1f8a9c2e",
   "metadata": {},
   "outputs": [
    {
     "name": "stdout",
     "output_type": "stream",
     "text": [
      "{'cherry', 'banana', 'apple'}\n"
     ]
    }
   ],
   "source": [
    "#sets\n",
    "fruits = {'apple', 'banana', 'cherry'}\n",
    "print(fruits)"
   ]
  },
  {
   "cell_type": "code",
   "execution_count": 2,
   "id": "1e2fc583-93dd-4e6f-a50c-bba336c87c07",
   "metadata": {},
   "outputs": [
    {
     "name": "stdout",
     "output_type": "stream",
     "text": [
      "{'orange', 'cherry', 'banana', 'apple'}\n"
     ]
    }
   ],
   "source": [
    "#add\n",
    "fruits.add('orange')\n",
    "print(fruits)  # Output: {'apple', 'banana', 'cherry', 'orange'}"
   ]
  },
  {
   "cell_type": "code",
   "execution_count": 3,
   "id": "928d84d4-7c55-4272-accd-48cd4ba1734f",
   "metadata": {},
   "outputs": [
    {
     "name": "stdout",
     "output_type": "stream",
     "text": [
      "{'banana', 'mango', 'cherry', 'grape', 'apple', 'orange'}\n"
     ]
    }
   ],
   "source": [
    "#update\n",
    "fruits.update(['mango', 'grape'])\n",
    "print(fruits)"
   ]
  },
  {
   "cell_type": "code",
   "execution_count": 4,
   "id": "53c9840d-4c48-4715-bfcf-aeee23f8135e",
   "metadata": {},
   "outputs": [
    {
     "name": "stdout",
     "output_type": "stream",
     "text": [
      "{'mango', 'cherry', 'grape', 'apple', 'orange'}\n"
     ]
    }
   ],
   "source": [
    "#remove\n",
    "fruits.remove('banana')\n",
    "print(fruits)"
   ]
  },
  {
   "cell_type": "code",
   "execution_count": 6,
   "id": "5ff1245a-bf0a-41e0-a1be-baa103d7b0e6",
   "metadata": {},
   "outputs": [
    {
     "name": "stdout",
     "output_type": "stream",
     "text": [
      "{'mango', 'cherry', 'grape', 'orange'}\n"
     ]
    }
   ],
   "source": [
    "#discard\n",
    "fruits.discard('apple')\n",
    "print(fruits)"
   ]
  },
  {
   "cell_type": "code",
   "execution_count": 7,
   "id": "b8b47920-db08-4745-95a5-18d43164018d",
   "metadata": {},
   "outputs": [
    {
     "name": "stdout",
     "output_type": "stream",
     "text": [
      "mango\n"
     ]
    }
   ],
   "source": [
    "#pop\n",
    "item = fruits.pop()\n",
    "print(item)"
   ]
  },
  {
   "cell_type": "code",
   "execution_count": 12,
   "id": "2ea411dc-ee18-48ae-93f0-ad35b7de8f41",
   "metadata": {},
   "outputs": [
    {
     "name": "stdout",
     "output_type": "stream",
     "text": [
      "set()\n"
     ]
    }
   ],
   "source": [
    "#clear\n",
    "fruits.clear()\n",
    "print(fruits)  "
   ]
  },
  {
   "cell_type": "code",
   "execution_count": 17,
   "id": "e81af4b8-a2dc-42a4-9fad-2131d4c285fe",
   "metadata": {},
   "outputs": [
    {
     "name": "stdout",
     "output_type": "stream",
     "text": [
      "{1, 2, 3, 4, 5, 6}\n",
      "{3, 4}\n",
      "{1, 2}\n",
      "{1, 2, 5, 6}\n",
      "{1, 2, 3, 4, 7}\n",
      "{1, 2, 3, 4}\n",
      "False\n",
      "False\n"
     ]
    }
   ],
   "source": [
    "# Creating sets\n",
    "set1 = {1, 2, 3, 4}\n",
    "set2 = {3, 4, 5, 6}\n",
    "\n",
    "# Union\n",
    "print(set1.union(set2))  \n",
    "\n",
    "# Intersection\n",
    "print(set1.intersection(set2))\n",
    "\n",
    "# Difference\n",
    "print(set1.difference(set2))  \n",
    "\n",
    "# Symmetric Difference\n",
    "print(set1.symmetric_difference(set2))\n",
    "\n",
    "# Adding an element\n",
    "set1.add(7)\n",
    "print(set1)  # Output: {1, 2, 3, 4, 7}\n",
    "\n",
    "#removing an element\n",
    "set1.remove(7)\n",
    "print(set1)\n",
    "\n",
    "# Checking subsets\n",
    "print(set1.issubset(set2)) \n",
    "\n",
    "# Checking supersets\n",
    "print(set1.issuperset(set2))  \n"
   ]
  },
  {
   "cell_type": "code",
   "execution_count": null,
   "id": "2ecbd82a-94da-4f7e-bf81-b2ee4ac3759a",
   "metadata": {},
   "outputs": [],
   "source": []
  }
 ],
 "metadata": {
  "kernelspec": {
   "display_name": "Python 3 (ipykernel)",
   "language": "python",
   "name": "python3"
  },
  "language_info": {
   "codemirror_mode": {
    "name": "ipython",
    "version": 3
   },
   "file_extension": ".py",
   "mimetype": "text/x-python",
   "name": "python",
   "nbconvert_exporter": "python",
   "pygments_lexer": "ipython3",
   "version": "3.11.7"
  }
 },
 "nbformat": 4,
 "nbformat_minor": 5
}

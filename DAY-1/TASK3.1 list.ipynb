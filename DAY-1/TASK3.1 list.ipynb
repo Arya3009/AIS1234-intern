{
 "cells": [
  {
   "cell_type": "code",
   "execution_count": 1,
   "id": "8e780f8a-08f4-4c3e-a2a7-09a76a76cc91",
   "metadata": {},
   "outputs": [
    {
     "name": "stdout",
     "output_type": "stream",
     "text": [
      "['apple', 'banana', 'cherry']\n"
     ]
    }
   ],
   "source": [
    "#list\n",
    "list1 = [\"orange\", \"banana\", \"cherry\"]\n",
    "print(list1)"
   ]
  },
  {
   "cell_type": "code",
   "execution_count": 2,
   "id": "25dcb240-b14b-4a3b-9b80-9a255255efcb",
   "metadata": {},
   "outputs": [
    {
     "name": "stdout",
     "output_type": "stream",
     "text": [
      "['kiwi', 'melon', 'mango']\n",
      "['melon', 'mango', 'apple']\n"
     ]
    }
   ],
   "source": [
    "#acess the list\n",
    "list2 = [\"cherry\", \"orange\", \"kiwi\", \"melon\", \"mango\",\"apple\", \"banana\"]\n",
    "print(list2[2:5])\n",
    "print(list2[-4:-1])"
   ]
  },
  {
   "cell_type": "code",
   "execution_count": 16,
   "id": "8c36063b-3c87-460a-b4dc-5d7a1c6a8361",
   "metadata": {},
   "outputs": [
    {
     "name": "stdout",
     "output_type": "stream",
     "text": [
      "['blackcurrant', 'banana', 'cherry']\n"
     ]
    }
   ],
   "source": [
    "#change the list \n",
    "list3 = [\"orange\", \"banana\", \"cherry\"]\n",
    "list3[0] = \"blackcurrant\"\n",
    "print(list3)"
   ]
  },
  {
   "cell_type": "code",
   "execution_count": 17,
   "id": "c2acb809-6e21-4343-9ae0-be4b71063014",
   "metadata": {},
   "outputs": [
    {
     "name": "stdout",
     "output_type": "stream",
     "text": [
      "['blackcurrant', 'banana', 'cherry', 'apple']\n"
     ]
    }
   ],
   "source": [
    "#append \n",
    "list3.append(\"apple\")\n",
    "print(list3)"
   ]
  },
  {
   "cell_type": "code",
   "execution_count": 18,
   "id": "0e063045-a1af-4cb2-a611-d134e80908bb",
   "metadata": {},
   "outputs": [
    {
     "name": "stdout",
     "output_type": "stream",
     "text": [
      "['blackcurrant', 'cherry', 'apple']\n"
     ]
    }
   ],
   "source": [
    "#remove \n",
    "list3.remove(\"banana\")\n",
    "print(list3)"
   ]
  },
  {
   "cell_type": "code",
   "execution_count": 8,
   "id": "cd829b9c-f4ee-4fee-af21-4cb7422a7c9a",
   "metadata": {},
   "outputs": [
    {
     "name": "stdout",
     "output_type": "stream",
     "text": [
      "orange\n",
      "blackcurrant\n",
      "cherry\n",
      "apple\n"
     ]
    }
   ],
   "source": [
    "#loop list \n",
    "for x in list:\n",
    "  print(x)"
   ]
  },
  {
   "cell_type": "code",
   "execution_count": 20,
   "id": "a95b5b68-56d2-47ed-a9c6-8fd0de0d3e45",
   "metadata": {},
   "outputs": [
    {
     "name": "stdout",
     "output_type": "stream",
     "text": [
      "['cherry']\n"
     ]
    }
   ],
   "source": [
    "#list comprehension\n",
    "fruit = [\"orange\", \"banana\", \"cherry\", \"kiwi\", \"mango\"]\n",
    "list4 = [x for x in fruit if \"c\" in x]\n",
    "print(list4)"
   ]
  },
  {
   "cell_type": "code",
   "execution_count": 22,
   "id": "2cd2c78c-c360-4413-bd78-0835fc8bb5c2",
   "metadata": {},
   "outputs": [
    {
     "name": "stdout",
     "output_type": "stream",
     "text": [
      "[23, 50, 58, 65, 108]\n"
     ]
    }
   ],
   "source": [
    "#sort list\n",
    "list = [108,50, 65, 58, 23]\n",
    "list.sort()\n",
    "print(list)"
   ]
  },
  {
   "cell_type": "code",
   "execution_count": 26,
   "id": "7e72cab1-5919-404e-8b3f-f0d9e09ce360",
   "metadata": {},
   "outputs": [
    {
     "name": "stdout",
     "output_type": "stream",
     "text": [
      "['orange', 'banana', 'cherry']\n"
     ]
    }
   ],
   "source": [
    "#copy list\n",
    "list5 = [\"orange\", \"banana\", \"cherry\"]\n",
    "mylist = list5.copy()\n",
    "print(mylist)"
   ]
  },
  {
   "cell_type": "code",
   "execution_count": 27,
   "id": "4d252a11-9877-46ce-a3ed-dd07c0b3ed9e",
   "metadata": {},
   "outputs": [
    {
     "name": "stdout",
     "output_type": "stream",
     "text": [
      "['a', 'b', 'c', 1, 2, 3]\n"
     ]
    }
   ],
   "source": [
    "#join list\n",
    "list1 = [\"a\", \"b\", \"c\"]\n",
    "list2 = [1, 2, 3]\n",
    "\n",
    "list3 = list1 + list2\n",
    "print(list3)"
   ]
  },
  {
   "cell_type": "code",
   "execution_count": null,
   "id": "6c7608b2-a436-4f65-9bee-bedf1b73e208",
   "metadata": {},
   "outputs": [],
   "source": []
  }
 ],
 "metadata": {
  "kernelspec": {
   "display_name": "Python 3 (ipykernel)",
   "language": "python",
   "name": "python3"
  },
  "language_info": {
   "codemirror_mode": {
    "name": "ipython",
    "version": 3
   },
   "file_extension": ".py",
   "mimetype": "text/x-python",
   "name": "python",
   "nbconvert_exporter": "python",
   "pygments_lexer": "ipython3",
   "version": "3.11.7"
  }
 },
 "nbformat": 4,
 "nbformat_minor": 5
}

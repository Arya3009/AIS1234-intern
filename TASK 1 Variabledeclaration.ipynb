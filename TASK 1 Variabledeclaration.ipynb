{
 "cells": [
  {
   "cell_type": "code",
   "execution_count": 8,
   "id": "89428a26-dcce-480a-a166-94194a32d60d",
   "metadata": {},
   "outputs": [
    {
     "name": "stdout",
     "output_type": "stream",
     "text": [
      "25\n"
     ]
    }
   ],
   "source": [
    "#variable delcalration \n",
    "age = 25 \n",
    "print(age)"
   ]
  },
  {
   "cell_type": "code",
   "execution_count": 6,
   "id": "67f240e4-67cd-490c-b201-94409df932c6",
   "metadata": {},
   "outputs": [
    {
     "name": "stdout",
     "output_type": "stream",
     "text": [
      "50\n"
     ]
    }
   ],
   "source": [
    "marks = 50 \n",
    "print(marks)"
   ]
  },
  {
   "cell_type": "code",
   "execution_count": 4,
   "id": "1847288d-2ca8-447a-8fce-dd486cd4f163",
   "metadata": {},
   "outputs": [
    {
     "name": "stdout",
     "output_type": "stream",
     "text": [
      "60\n"
     ]
    }
   ],
   "source": [
    "weight=60\n",
    "print(weight)"
   ]
  },
  {
   "cell_type": "code",
   "execution_count": 5,
   "id": "4b3625cb-6491-4d09-9798-60182193b9e6",
   "metadata": {},
   "outputs": [
    {
     "name": "stdout",
     "output_type": "stream",
     "text": [
      "55.4\n"
     ]
    }
   ],
   "source": [
    "height=55.4\n",
    "print(height)"
   ]
  },
  {
   "cell_type": "code",
   "execution_count": 9,
   "id": "1772596c-f09c-4dfc-a510-d9601a616615",
   "metadata": {},
   "outputs": [
    {
     "name": "stdout",
     "output_type": "stream",
     "text": [
      "35\n"
     ]
    }
   ],
   "source": [
    "rate= 35\n",
    "print(rate)"
   ]
  },
  {
   "cell_type": "code",
   "execution_count": 16,
   "id": "1a008394-9f2c-4a53-8364-3cdeb91999d0",
   "metadata": {},
   "outputs": [
    {
     "name": "stdout",
     "output_type": "stream",
     "text": [
      "Name: Alice\n",
      "Name: Alice\n"
     ]
    }
   ],
   "source": [
    "# String\n",
    "name = \"Alice\"\n",
    "print(\"Name:\", name)\n",
    "name = 'Alice'\n",
    "print(\"Name:\", name)"
   ]
  },
  {
   "cell_type": "code",
   "execution_count": 11,
   "id": "f57be66d-12a9-426f-b47e-bca0c71268ac",
   "metadata": {},
   "outputs": [
    {
     "name": "stdout",
     "output_type": "stream",
     "text": [
      "fruit: apple\n"
     ]
    }
   ],
   "source": [
    "fruit=\"apple\"\n",
    "print(\"fruit:\", fruit)"
   ]
  },
  {
   "cell_type": "code",
   "execution_count": 12,
   "id": "5e1a8120-afdb-4160-97f5-6f90de540ae3",
   "metadata": {},
   "outputs": [
    {
     "name": "stdout",
     "output_type": "stream",
     "text": [
      "flower: jasmine\n"
     ]
    }
   ],
   "source": [
    "flower=\"jasmine\"\n",
    "print(\"flower:\",flower)"
   ]
  },
  {
   "cell_type": "code",
   "execution_count": 15,
   "id": "982d06c1-b0be-4ba1-a68f-593e4e9def02",
   "metadata": {},
   "outputs": [
    {
     "name": "stdout",
     "output_type": "stream",
     "text": [
      "colour: red\n"
     ]
    }
   ],
   "source": [
    "colour=\"red\"\n",
    "print(\"colour:\",colour)"
   ]
  },
  {
   "cell_type": "code",
   "execution_count": 14,
   "id": "d34c151b-d482-41e5-adec-8979b28d12fc",
   "metadata": {},
   "outputs": [
    {
     "name": "stdout",
     "output_type": "stream",
     "text": [
      "Brand: gucci\n"
     ]
    }
   ],
   "source": [
    "brand=\"gucci\"\n",
    "print(\"Brand:\",brand)"
   ]
  },
  {
   "cell_type": "code",
   "execution_count": null,
   "id": "bcc56618-0538-4036-9894-c4114f5725a3",
   "metadata": {},
   "outputs": [],
   "source": []
  }
 ],
 "metadata": {
  "kernelspec": {
   "display_name": "Python 3 (ipykernel)",
   "language": "python",
   "name": "python3"
  },
  "language_info": {
   "codemirror_mode": {
    "name": "ipython",
    "version": 3
   },
   "file_extension": ".py",
   "mimetype": "text/x-python",
   "name": "python",
   "nbconvert_exporter": "python",
   "pygments_lexer": "ipython3",
   "version": "3.11.7"
  }
 },
 "nbformat": 4,
 "nbformat_minor": 5
}

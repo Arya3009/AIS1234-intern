{
 "cells": [
  {
   "cell_type": "markdown",
   "id": "2154d6e3-38cb-4cb8-bbc5-d22c5e55ee81",
   "metadata": {},
   "source": [
    "For Loop"
   ]
  },
  {
   "cell_type": "code",
   "execution_count": null,
   "id": "697b58ea-c949-4b63-a72a-c9cfe0b31e00",
   "metadata": {},
   "outputs": [],
   "source": [
    "#A for loop is used for iterating over a sequence(that is either a list,a tuple,a dictionary,a set or a string)\n",
    "#For loop is a control flow statement in programming that allows you to execute a block of code repeatedly based on a specified condition\n",
    "#It is commonly used when you know how many times you want to execute a block of code\n",
    "#With for loop we can execute a set of statementsfor each item in a list,tuple,set etc\n",
    "#For loop does not require an indexing variable to set beforehand\n",
    "\n",
    "#Syntax:\n",
    "for variable name in range(start,end,step):\n",
    "                                       #Statement\n"
   ]
  },
  {
   "cell_type": "markdown",
   "id": "cf5c01fa-ad58-4303-8215-cc13f554f251",
   "metadata": {},
   "source": [
    "Examples"
   ]
  },
  {
   "cell_type": "code",
   "execution_count": 1,
   "id": "436b09fc-995f-4707-bf7c-4e09f9774a44",
   "metadata": {},
   "outputs": [
    {
     "name": "stdout",
     "output_type": "stream",
     "text": [
      "1\n",
      "2\n",
      "3\n",
      "4\n",
      "5\n",
      "6\n",
      "7\n",
      "8\n",
      "9\n",
      "10\n"
     ]
    }
   ],
   "source": [
    "#1)\n",
    "for i in range(1,11):\n",
    "    print(i)"
   ]
  },
  {
   "cell_type": "code",
   "execution_count": 2,
   "id": "0caa9f19-505f-4d73-91c6-8d3397168020",
   "metadata": {},
   "outputs": [
    {
     "name": "stdin",
     "output_type": "stream",
     "text": [
      "Enter a number 5\n"
     ]
    },
    {
     "name": "stdout",
     "output_type": "stream",
     "text": [
      "5\n",
      "10\n",
      "15\n",
      "20\n",
      "25\n",
      "30\n",
      "35\n",
      "40\n",
      "45\n",
      "50\n"
     ]
    }
   ],
   "source": [
    "#2)\n",
    "no=int(input(\"Enter a number\"))\n",
    "for i in range(1,11):\n",
    "    print(no*i)"
   ]
  },
  {
   "cell_type": "code",
   "execution_count": 6,
   "id": "bdbb0039-80a9-49f9-88b2-ed3311a1072a",
   "metadata": {},
   "outputs": [
    {
     "name": "stdout",
     "output_type": "stream",
     "text": [
      "D\n",
      "I\n",
      "S\n",
      "H\n",
      "A\n"
     ]
    }
   ],
   "source": [
    "#3)\n",
    "l=\"DISHA\"\n",
    "for i in l:\n",
    "    print(i)"
   ]
  },
  {
   "cell_type": "code",
   "execution_count": 8,
   "id": "a489975b-8f71-49a4-87a6-519d48f56fe9",
   "metadata": {},
   "outputs": [
    {
     "name": "stdout",
     "output_type": "stream",
     "text": [
      "[0, 1, 4, 9, 16, 25, 36, 49, 64, 81]\n"
     ]
    }
   ],
   "source": [
    "#4)\n",
    "squares=[x**2 for x in range(10)]\n",
    "print(squares)"
   ]
  },
  {
   "cell_type": "code",
   "execution_count": 9,
   "id": "9cc8f2fb-5211-4e90-b267-c16c7c53c347",
   "metadata": {},
   "outputs": [
    {
     "name": "stdout",
     "output_type": "stream",
     "text": [
      "2 is even\n",
      "4 is even\n",
      "6 is even\n"
     ]
    }
   ],
   "source": [
    "#5)\n",
    "numbers = [1, 2, 3, 4, 5, 6]\n",
    "for number in numbers:\n",
    "    if number % 2 == 0:\n",
    "        print(f\"{number} is even\")"
   ]
  },
  {
   "cell_type": "code",
   "execution_count": 10,
   "id": "1bead4fa-1532-481f-bb80-1e0ae22f06c6",
   "metadata": {},
   "outputs": [
    {
     "name": "stdout",
     "output_type": "stream",
     "text": [
      "Factorial of 5 is 120\n"
     ]
    }
   ],
   "source": [
    "#6)\n",
    "number = 5\n",
    "factorial = 1\n",
    "for i in range(1, number + 1):\n",
    "    factorial *= i\n",
    "print(f\"Factorial of {number} is {factorial}\")"
   ]
  },
  {
   "cell_type": "code",
   "execution_count": 12,
   "id": "39372d7d-1fa7-4e08-a067-e18bade0e43b",
   "metadata": {},
   "outputs": [
    {
     "name": "stdout",
     "output_type": "stream",
     "text": [
      "0\n",
      "2\n",
      "4\n",
      "6\n",
      "8\n"
     ]
    }
   ],
   "source": [
    "#7)\n",
    "given_range = 10 \n",
    "for i in range(given_range):\n",
    "        if i%2==0:\n",
    "                print(i)"
   ]
  },
  {
   "cell_type": "code",
   "execution_count": 13,
   "id": "3512afa7-11c8-4dd0-b2d6-37c7ba9558dd",
   "metadata": {},
   "outputs": [
    {
     "name": "stdout",
     "output_type": "stream",
     "text": [
      "55\n"
     ]
    }
   ],
   "source": [
    "#8)\n",
    "given_number = 10\n",
    "sum = 0\n",
    "for i in range(1,given_number+1):\n",
    "        sum+=i\n",
    "print(sum)"
   ]
  },
  {
   "cell_type": "code",
   "execution_count": 19,
   "id": "ec568cf1-eb8c-4092-b83b-5011bd0c26b6",
   "metadata": {},
   "outputs": [
    {
     "name": "stdout",
     "output_type": "stream",
     "text": [
      "Color at index 0 is red\n",
      "Color at index 1 is green\n",
      "Color at index 2 is blue\n"
     ]
    }
   ],
   "source": [
    "#9)\n",
    "colors = [\"red\", \"green\", \"blue\"]\n",
    "for i in range(len(colors)):\n",
    "    print(f\"Color at index {i} is {colors[i]}\")"
   ]
  },
  {
   "cell_type": "code",
   "execution_count": 20,
   "id": "4a9282c9-2e51-4b9b-baf0-eb775692609d",
   "metadata": {},
   "outputs": [
    {
     "name": "stdout",
     "output_type": "stream",
     "text": [
      "Apple\n",
      "Banana\n",
      "Car\n",
      "Dolphin\n"
     ]
    }
   ],
   "source": [
    "#10)\n",
    "words= [\"Apple\", \"Banana\", \"Car\", \"Dolphin\" ]\n",
    "for word in words:\n",
    "\tprint (word)"
   ]
  },
  {
   "cell_type": "code",
   "execution_count": null,
   "id": "74f9ed0a-9d7c-44bb-b628-5fb618af5c0f",
   "metadata": {},
   "outputs": [],
   "source": []
  }
 ],
 "metadata": {
  "kernelspec": {
   "display_name": "Python 3 (ipykernel)",
   "language": "python",
   "name": "python3"
  },
  "language_info": {
   "codemirror_mode": {
    "name": "ipython",
    "version": 3
   },
   "file_extension": ".py",
   "mimetype": "text/x-python",
   "name": "python",
   "nbconvert_exporter": "python",
   "pygments_lexer": "ipython3",
   "version": "3.11.7"
  }
 },
 "nbformat": 4,
 "nbformat_minor": 5
}

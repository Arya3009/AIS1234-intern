{
 "cells": [
  {
   "cell_type": "markdown",
   "id": "f1fac121-1588-4902-8bab-8a188492f354",
   "metadata": {},
   "source": [
    "If Condition"
   ]
  },
  {
   "cell_type": "code",
   "execution_count": 3,
   "id": "1ad14530-067f-42d0-97c7-ee2df527e7d0",
   "metadata": {},
   "outputs": [
    {
     "name": "stdout",
     "output_type": "stream",
     "text": [
      "10 is positive number\n"
     ]
    }
   ],
   "source": [
    "# An\"if statement\"is written by using the if keyword.\n",
    "# An if condition checks whether a statement is True and executes a block of code if it is.\n",
    "\n",
    "# Syntax \n",
    "#if condition:\n",
    "            #Body of statement\n",
    "\n",
    "#Examples \n",
    "#1)\n",
    "a=10\n",
    "if(a>0):\n",
    "    print(a,\"is positive number\")\n",
    "    "
   ]
  },
  {
   "cell_type": "code",
   "execution_count": 5,
   "id": "b4ba3183-82de-4f46-a088-db5d95d184f5",
   "metadata": {},
   "outputs": [
    {
     "name": "stdout",
     "output_type": "stream",
     "text": [
      "96 is greater number\n"
     ]
    }
   ],
   "source": [
    "#2)\n",
    "a=34\n",
    "b=96\n",
    "if(b>a):\n",
    "    print(b,\"is greater number\")"
   ]
  },
  {
   "cell_type": "code",
   "execution_count": 7,
   "id": "6550f38a-017f-4ec1-9cb8-4371ec210894",
   "metadata": {},
   "outputs": [
    {
     "name": "stdout",
     "output_type": "stream",
     "text": [
      "10 is even number\n"
     ]
    }
   ],
   "source": [
    "#3)\n",
    "a=10\n",
    "if(a%2==0):\n",
    "    print(a,\"is even number\")"
   ]
  },
  {
   "cell_type": "code",
   "execution_count": 8,
   "id": "a1dac9df-10b9-497a-a896-39191024a36e",
   "metadata": {},
   "outputs": [
    {
     "name": "stdout",
     "output_type": "stream",
     "text": [
      "We have Apple\n"
     ]
    }
   ],
   "source": [
    "#4)\n",
    "fruits=[\"Apple\",\"Banana\",\"Pineapple\",\"Orange\"]\n",
    "if(\"Apple\" in fruits):\n",
    "    print(\"We have Apple\")"
   ]
  },
  {
   "cell_type": "code",
   "execution_count": 11,
   "id": "da575a0f-ce4f-4dd6-87d6-90356ec6f0c8",
   "metadata": {},
   "outputs": [
    {
     "name": "stdin",
     "output_type": "stream",
     "text": [
      "Enter a letter: i\n"
     ]
    },
    {
     "name": "stdout",
     "output_type": "stream",
     "text": [
      "Given letter is a vowel\n"
     ]
    }
   ],
   "source": [
    "#5)\n",
    "z=[\"a\",\"e\",\"i\",\"o\",\"u\"]\n",
    "letter=str(input(\"Enter a letter:\"))\n",
    "if letter in z:\n",
    "    print(\"Given letter is a vowel\")"
   ]
  },
  {
   "cell_type": "code",
   "execution_count": 12,
   "id": "f87609fc-5cda-4ec0-8fba-ad0e7840d1f6",
   "metadata": {},
   "outputs": [
    {
     "name": "stdout",
     "output_type": "stream",
     "text": [
      "a is equal to b\n"
     ]
    }
   ],
   "source": [
    "#6)\n",
    "a=55\n",
    "b=55\n",
    "if a==b:\n",
    "    print(\"a is equal to b\")\n",
    "    "
   ]
  },
  {
   "cell_type": "code",
   "execution_count": 13,
   "id": "c1921400-dd90-41f3-b021-5ee6cb1caeaa",
   "metadata": {},
   "outputs": [
    {
     "name": "stdout",
     "output_type": "stream",
     "text": [
      "Pass\n"
     ]
    }
   ],
   "source": [
    "#7)\n",
    "marks=98\n",
    "if marks>=40:\n",
    "    print(\"Pass\")"
   ]
  },
  {
   "cell_type": "code",
   "execution_count": 14,
   "id": "e0a29f99-0b21-459c-a778-10240d6d0309",
   "metadata": {},
   "outputs": [
    {
     "name": "stdout",
     "output_type": "stream",
     "text": [
      "It is hot outside.\n"
     ]
    }
   ],
   "source": [
    "#8)\n",
    "temperature = 30\n",
    "if temperature > 25:\n",
    "    print(\"It is hot outside.\")"
   ]
  },
  {
   "cell_type": "code",
   "execution_count": 15,
   "id": "ab5defb7-1728-42e1-958f-78900cb2c376",
   "metadata": {},
   "outputs": [
    {
     "name": "stdout",
     "output_type": "stream",
     "text": [
      "The value is within the range.\n"
     ]
    }
   ],
   "source": [
    "#9)\n",
    "value = 10\n",
    "if 5 < value < 15:\n",
    "    print(\"The value is within the range.\")"
   ]
  },
  {
   "cell_type": "code",
   "execution_count": 16,
   "id": "cb9115e9-26f9-4ae3-a8c1-200815fd3169",
   "metadata": {},
   "outputs": [
    {
     "name": "stdout",
     "output_type": "stream",
     "text": [
      "The list is not empty.\n"
     ]
    }
   ],
   "source": [
    "#10)\n",
    "my_list = [1, 2, 3]\n",
    "if my_list:\n",
    "    print(\"The list is not empty.\")"
   ]
  },
  {
   "cell_type": "code",
   "execution_count": null,
   "id": "0ecb1bc1-864c-49e2-8407-4c0f975e5831",
   "metadata": {},
   "outputs": [],
   "source": []
  }
 ],
 "metadata": {
  "kernelspec": {
   "display_name": "Python 3 (ipykernel)",
   "language": "python",
   "name": "python3"
  },
  "language_info": {
   "codemirror_mode": {
    "name": "ipython",
    "version": 3
   },
   "file_extension": ".py",
   "mimetype": "text/x-python",
   "name": "python",
   "nbconvert_exporter": "python",
   "pygments_lexer": "ipython3",
   "version": "3.11.7"
  }
 },
 "nbformat": 4,
 "nbformat_minor": 5
}

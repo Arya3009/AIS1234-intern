{
 "cells": [
  {
   "cell_type": "markdown",
   "id": "e3250d14-8e6d-45a0-a454-b56bfb7ec88a",
   "metadata": {},
   "source": [
    "If elif Statement"
   ]
  },
  {
   "cell_type": "code",
   "execution_count": 1,
   "id": "e934d9df-04cc-4e17-8a1d-1098c59bbdc5",
   "metadata": {},
   "outputs": [],
   "source": [
    "# An if statement executes a block of code if specified condition is met.\n",
    "#An if-elif statement is a control flow statement that allows you to execute different blocks of code.\n",
    "#The elif statement allows you to check multiple expressions for True and execute a block of code as soon as one of the conditions is True. "
   ]
  },
  {
   "cell_type": "code",
   "execution_count": 3,
   "id": "0790f70b-8505-4c8c-a6a4-c4b988d3fd71",
   "metadata": {},
   "outputs": [],
   "source": [
    "# Syntax\n",
    "#if condition1:\n",
    "    # Block of code to be executed if condition1 is True\n",
    "#elif condition2:\n",
    "    # Block of code to be executed if condition2 is True\n",
    "#elif condition3:\n",
    "    # Block of code to be executed if condition3 is True\n",
    "#else:\n",
    "    # Block of code to be executed if none of the above conditions are True"
   ]
  },
  {
   "cell_type": "markdown",
   "id": "20bad071-2e70-4a95-87f6-95d1afe54690",
   "metadata": {},
   "source": [
    "EXAMPLES"
   ]
  },
  {
   "cell_type": "code",
   "execution_count": 4,
   "id": "eaf30d17-5b1a-4a93-9805-d25aea90ed7e",
   "metadata": {},
   "outputs": [
    {
     "name": "stdout",
     "output_type": "stream",
     "text": [
      "It's a warm day.\n"
     ]
    }
   ],
   "source": [
    "#1)\n",
    "temperature = 25\n",
    "if temperature > 30:\n",
    "    print(\"It's a hot day.\")\n",
    "elif temperature > 20:\n",
    "    print(\"It's a warm day.\")\n",
    "elif temperature > 10:\n",
    "    print(\"It's a cool day.\")\n",
    "else:\n",
    "    print(\"It's a cold day.\")"
   ]
  },
  {
   "cell_type": "code",
   "execution_count": 8,
   "id": "4f677de8-5015-41ff-b605-13102e50e5b8",
   "metadata": {},
   "outputs": [
    {
     "name": "stdout",
     "output_type": "stream",
     "text": [
      "Grade: B\n"
     ]
    }
   ],
   "source": [
    "#2)\n",
    "score = 85\n",
    "if score >= 90:\n",
    "    print(\"Grade: A\")\n",
    "elif score >= 80:\n",
    "    print(\"Grade: B\")\n",
    "elif score >= 70:\n",
    "    print(\"Grade: C\")\n",
    "elif score >= 60:\n",
    "    print(\"Grade: D\")\n",
    "else:\n",
    "    print(\"Grade: F\")"
   ]
  },
  {
   "cell_type": "code",
   "execution_count": 9,
   "id": "a01311d4-1911-406b-b591-1e748cf70b76",
   "metadata": {},
   "outputs": [
    {
     "name": "stdout",
     "output_type": "stream",
     "text": [
      "You are an adult\n"
     ]
    }
   ],
   "source": [
    "#3)\n",
    "age = 25\n",
    "if age < 13:\n",
    "    print(\"You are a child\")\n",
    "elif age < 18:\n",
    "    print(\"You are a teenager\")\n",
    "elif age < 65:\n",
    "    print(\"You are an adult\")\n",
    "else:\n",
    "    print(\"You are a senior citizen\")"
   ]
  },
  {
   "cell_type": "code",
   "execution_count": 10,
   "id": "6a092670-a912-4228-8455-2937c0303891",
   "metadata": {},
   "outputs": [
    {
     "name": "stdout",
     "output_type": "stream",
     "text": [
      "Stop\n"
     ]
    }
   ],
   "source": [
    "#4)\n",
    "light = \"red\"\n",
    "if light == \"red\":\n",
    "    print(\"Stop\")\n",
    "elif light == \"yellow\":\n",
    "    print(\"Caution\")\n",
    "elif light == \"green\":\n",
    "    print(\"Go\")\n",
    "else:\n",
    "    print(\"Invalid light color\")"
   ]
  },
  {
   "cell_type": "code",
   "execution_count": 11,
   "id": "9e181ba4-35d7-45c4-b9cc-2946dd71863b",
   "metadata": {},
   "outputs": [
    {
     "name": "stdout",
     "output_type": "stream",
     "text": [
      "Regular day\n"
     ]
    }
   ],
   "source": [
    "#5)\n",
    "day = \"Tuesday\"\n",
    "if day == \"Monday\":\n",
    "    print(\"Start of the work week\")\n",
    "elif day == \"Wednesday\":\n",
    "    print(\"Midweek\")\n",
    "elif day == \"Friday\":\n",
    "    print(\"Almost the weekend\")\n",
    "elif day == \"Sunday\":\n",
    "    print(\"Weekend!\")\n",
    "else:\n",
    "    print(\"Regular day\")"
   ]
  },
  {
   "cell_type": "code",
   "execution_count": 12,
   "id": "a2c907f7-a10e-4566-9ff1-9435baf168b8",
   "metadata": {},
   "outputs": [
    {
     "name": "stdout",
     "output_type": "stream",
     "text": [
      "The number is greater than 10 but less than or equal to 20\n"
     ]
    }
   ],
   "source": [
    "#6)\n",
    "number = 15\n",
    "if number > 20:\n",
    "    print(\"The number is greater than 20\")\n",
    "elif number > 10:\n",
    "    print(\"The number is greater than 10 but less than or equal to 20\")\n",
    "else:\n",
    "    print(\"The number is 10 or less\")"
   ]
  },
  {
   "cell_type": "code",
   "execution_count": 13,
   "id": "ea766deb-58b4-4b46-966f-af736dab7994",
   "metadata": {},
   "outputs": [
    {
     "name": "stdout",
     "output_type": "stream",
     "text": [
      "z is divisible by 3\n"
     ]
    }
   ],
   "source": [
    "#7)\n",
    "z = 3\n",
    "if z % 2 == 0:\n",
    "    print(\"z is divisible by 2\")\n",
    "elif z % 3 == 0:\n",
    "    print(\"z is divisible by 3\")\n",
    "else:\n",
    "    print(\"z is neither divisible by 2 nor by 3\")"
   ]
  },
  {
   "cell_type": "code",
   "execution_count": 14,
   "id": "c13311eb-2447-4029-8ee0-0fea6130026d",
   "metadata": {},
   "outputs": [
    {
     "name": "stdout",
     "output_type": "stream",
     "text": [
      "Positive\n"
     ]
    }
   ],
   "source": [
    "#8)\n",
    "x = 22\n",
    "if x > 0:\n",
    "    print(\"Positive\")\n",
    "elif x < 0:\n",
    "    print(\"Negative\")\n",
    "else:\n",
    "    print(\"Zero\")"
   ]
  },
  {
   "cell_type": "code",
   "execution_count": 16,
   "id": "f27905ad-b186-4d6f-b605-8a315292d4a2",
   "metadata": {},
   "outputs": [
    {
     "name": "stdout",
     "output_type": "stream",
     "text": [
      "7 is odd\n"
     ]
    }
   ],
   "source": [
    "#9)\n",
    "number = 7\n",
    "if number % 2 == 0:\n",
    "    print(f\"{number} is even\")\n",
    "elif number % 2 != 0:\n",
    "    print(f\"{number} is odd\")\n",
    "else:\n",
    "    print(\"The input is not a valid integer\")"
   ]
  },
  {
   "cell_type": "code",
   "execution_count": 17,
   "id": "385fba45-3b47-4be1-a820-f35c89dde16f",
   "metadata": {},
   "outputs": [
    {
     "name": "stdout",
     "output_type": "stream",
     "text": [
      "Invalid password\n"
     ]
    }
   ],
   "source": [
    "#10)\n",
    "password = \"secret\"\n",
    "if password == \"admin\":\n",
    "    print(\"Welcome, admin!\")\n",
    "elif password == \"user\":\n",
    "    print(\"Welcome, user!\")\n",
    "else:\n",
    "    print(\"Invalid password\")"
   ]
  },
  {
   "cell_type": "code",
   "execution_count": null,
   "id": "13fda4e6-2bfb-40ea-aee0-771d77df2298",
   "metadata": {},
   "outputs": [],
   "source": []
  }
 ],
 "metadata": {
  "kernelspec": {
   "display_name": "Python 3 (ipykernel)",
   "language": "python",
   "name": "python3"
  },
  "language_info": {
   "codemirror_mode": {
    "name": "ipython",
    "version": 3
   },
   "file_extension": ".py",
   "mimetype": "text/x-python",
   "name": "python",
   "nbconvert_exporter": "python",
   "pygments_lexer": "ipython3",
   "version": "3.11.7"
  }
 },
 "nbformat": 4,
 "nbformat_minor": 5
}

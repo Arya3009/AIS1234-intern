{
 "cells": [
  {
   "cell_type": "code",
   "execution_count": null,
   "id": "1059feb5-47dd-4fda-ad61-edc9d868198c",
   "metadata": {},
   "outputs": [],
   "source": [
    "#The while loop in Python repeatedly executes a block of code as long as a given condition is true. \n",
    "#It is a type of loop that checks the condition before executing the loop body. \n",
    "#If the condition is True, the loop body runs; if it is False, the loop terminates.\n",
    "### syntax:while(condition):\n",
    "               #statment\n",
    "               #inc/dec\n",
    "           #else:\n",
    "               #stmt\n"
   ]
  },
  {
   "cell_type": "code",
   "execution_count": 2,
   "id": "4ce42f3e-aff2-42c2-8da7-f55f3e14ff9e",
   "metadata": {},
   "outputs": [
    {
     "name": "stdout",
     "output_type": "stream",
     "text": [
      "1\n",
      "2\n",
      "3\n",
      "4\n",
      "5\n"
     ]
    }
   ],
   "source": [
    "### 1. Basic Counting\n",
    "count = 1\n",
    "while count <= 5:\n",
    "    print(count)\n",
    "    count += 1"
   ]
  },
  {
   "cell_type": "code",
   "execution_count": 4,
   "id": "a4d7f41f-7347-42c3-b6f3-2e47575db40a",
   "metadata": {},
   "outputs": [
    {
     "name": "stdout",
     "output_type": "stream",
     "text": [
      "5050\n"
     ]
    }
   ],
   "source": [
    "### 2. Summing Numbers\n",
    "total = 0\n",
    "num = 1\n",
    "while num <= 100:\n",
    "    total += num\n",
    "    num += 1\n",
    "print(total)"
   ]
  },
  {
   "cell_type": "code",
   "execution_count": 5,
   "id": "d3e5fe0a-a036-4323-a809-b2436a5c82e8",
   "metadata": {},
   "outputs": [
    {
     "name": "stdin",
     "output_type": "stream",
     "text": [
      "Enter password:  secret\n"
     ]
    },
    {
     "name": "stdout",
     "output_type": "stream",
     "text": [
      "Access granted!\n"
     ]
    }
   ],
   "source": [
    "### 3. User Input\n",
    "password = \"\"\n",
    "while password != \"secret\":\n",
    "    password = input(\"Enter password: \")\n",
    "print(\"Access granted!\")"
   ]
  },
  {
   "cell_type": "code",
   "execution_count": 6,
   "id": "b68cbe63-f0de-4921-b48f-0202f5bee639",
   "metadata": {},
   "outputs": [
    {
     "name": "stdin",
     "output_type": "stream",
     "text": [
      "Enter a number (0 to stop):  6\n",
      "Enter a number (0 to stop):  1\n",
      "Enter a number (0 to stop):  0\n"
     ]
    },
    {
     "name": "stdout",
     "output_type": "stream",
     "text": [
      "Total sum: 7\n"
     ]
    }
   ],
   "source": [
    "### 4. Sentinel Value\n",
    "sum = 0\n",
    "while True:\n",
    "    num = int(input(\"Enter a number (0 to stop): \"))\n",
    "    if num == 0:\n",
    "        break\n",
    "    sum += num\n",
    "print(\"Total sum:\", sum)"
   ]
  },
  {
   "cell_type": "code",
   "execution_count": 7,
   "id": "61808a05-cdca-4e37-9328-e9c2f7a9e308",
   "metadata": {},
   "outputs": [
    {
     "name": "stdout",
     "output_type": "stream",
     "text": [
      "1\n",
      "2\n",
      "3\n",
      "4\n",
      "5\n"
     ]
    }
   ],
   "source": [
    "### 5. List Traversal\n",
    "items = [1, 2, 3, 4, 5]\n",
    "index = 0\n",
    "while index < len(items):\n",
    "    print(items[index])\n",
    "    index += 1"
   ]
  },
  {
   "cell_type": "code",
   "execution_count": 8,
   "id": "4379bd1d-7e65-4ece-a6dc-af4595b8c6dd",
   "metadata": {},
   "outputs": [
    {
     "name": "stdout",
     "output_type": "stream",
     "text": [
      "Factorial of 5 is 120\n"
     ]
    }
   ],
   "source": [
    "### 6. Factorial Calculation\n",
    "n = 5\n",
    "result = 1\n",
    "i = 1\n",
    "while i <= n:\n",
    "    result *= i\n",
    "    i += 1\n",
    "print(f\"Factorial of {n} is {result}\")"
   ]
  },
  {
   "cell_type": "code",
   "execution_count": 10,
   "id": "f4c63879-01c7-4380-abb4-99f081b591d6",
   "metadata": {},
   "outputs": [
    {
     "name": "stdout",
     "output_type": "stream",
     "text": [
      "1 1 2 3 5 8 13 21 34 55 89 "
     ]
    }
   ],
   "source": [
    "### 7. Fibonacci Sequence\n",
    "\n",
    "a, b = 0, 1\n",
    "while b < 100:\n",
    "    print(b, end=' ')\n",
    "    a, b = b, a + b"
   ]
  },
  {
   "cell_type": "code",
   "execution_count": 11,
   "id": "80f80ce3-a5a6-4e37-b404-b0828e9565b8",
   "metadata": {},
   "outputs": [
    {
     "name": "stdout",
     "output_type": "stream",
     "text": [
      "Found 30 at index 2\n"
     ]
    }
   ],
   "source": [
    "### 8. Finding a Specific Element\n",
    "numbers = [10, 20, 30, 40, 50]\n",
    "search_for = 30\n",
    "found = False\n",
    "i = 0\n",
    "while i < len(numbers):\n",
    "    if numbers[i] == search_for:\n",
    "        found = True\n",
    "        break\n",
    "    i += 1\n",
    "if found:\n",
    "    print(f\"Found {search_for} at index {i}\")\n",
    "else:\n",
    "    print(f\"{search_for} not found\")"
   ]
  },
  {
   "cell_type": "code",
   "execution_count": 12,
   "id": "ddf8439e-f41f-432a-aa8f-90ca37c1d0f7",
   "metadata": {},
   "outputs": [
    {
     "name": "stdout",
     "output_type": "stream",
     "text": [
      "10\n",
      "9\n",
      "8\n",
      "7\n",
      "6\n",
      "5\n",
      "4\n",
      "3\n",
      "2\n",
      "1\n",
      "Happy New Year!\n"
     ]
    }
   ],
   "source": [
    "### 9. Countdown Timer\n",
    "import time\n",
    "\n",
    "n = 10\n",
    "while n > 0:\n",
    "    print(n)\n",
    "    time.sleep(1)  # Wait for 1 second\n",
    "    n -= 1\n",
    "print(\"Happy New Year!\")"
   ]
  },
  {
   "cell_type": "code",
   "execution_count": null,
   "id": "c22ab1bf-4154-4409-aa1e-aac816acd033",
   "metadata": {},
   "outputs": [],
   "source": [
    "### 10. Guessing Game\n",
    "import random\n",
    "target = random.randint(1, 10)\n",
    "guess = 0\n",
    "while guess != target:\n",
    "    guess = int(input(\"Guess the number between 1 and 10: \"))\n",
    "    if guess < target:\n",
    "        print(\"Too low!\")\n",
    "    elif guess > target:\n",
    "        print(\"Too high!\")\n",
    "print(\"Congratulations! You've guessed the number.\")"
   ]
  }
 ],
 "metadata": {
  "kernelspec": {
   "display_name": "Python 3 (ipykernel)",
   "language": "python",
   "name": "python3"
  },
  "language_info": {
   "codemirror_mode": {
    "name": "ipython",
    "version": 3
   },
   "file_extension": ".py",
   "mimetype": "text/x-python",
   "name": "python",
   "nbconvert_exporter": "python",
   "pygments_lexer": "ipython3",
   "version": "3.11.7"
  }
 },
 "nbformat": 4,
 "nbformat_minor": 5
}

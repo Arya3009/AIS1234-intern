{
 "cells": [
  {
   "cell_type": "markdown",
   "id": "c3c5de0b-902f-4284-a3f4-efe5d9956d69",
   "metadata": {},
   "source": [
    "Logical user define functions: Logical user-defined functions are custom functions to perform specific logical tasks or operations based on given input parameters."
   ]
  },
  {
   "cell_type": "markdown",
   "id": "a09ac981-1534-4968-9afd-45293941795c",
   "metadata": {},
   "source": [
    "EXAMPLES"
   ]
  },
  {
   "cell_type": "code",
   "execution_count": 3,
   "id": "bcb6fec2-799f-4094-88b9-ae68c8360d3d",
   "metadata": {},
   "outputs": [
    {
     "name": "stdout",
     "output_type": "stream",
     "text": [
      "Even\n",
      "Odd\n"
     ]
    }
   ],
   "source": [
    "#1)\n",
    "#) Odd and even\n",
    "def is_odd_even(number):\n",
    "    if number % 2 == 0:\n",
    "        return \"Even\"\n",
    "    else:\n",
    "        return \"Odd\"\n",
    "\n",
    "# Example \n",
    "print(is_odd_even(4)) \n",
    "print(is_odd_even(7)) \n"
   ]
  },
  {
   "cell_type": "code",
   "execution_count": 4,
   "id": "ece30862-c9b6-4d77-adf9-d527d0c9ee19",
   "metadata": {},
   "outputs": [
    {
     "name": "stdout",
     "output_type": "stream",
     "text": [
      "A\n"
     ]
    }
   ],
   "source": [
    "#2)\n",
    "# Grades\n",
    "def calculate_grade(score):\n",
    "    if score >= 90:\n",
    "        return 'A'\n",
    "    elif score >= 80:\n",
    "        return 'B'\n",
    "    elif score >= 70:\n",
    "        return 'C'\n",
    "    elif score >= 60:\n",
    "        return 'D'\n",
    "    else:\n",
    "        return 'F'\n",
    "\n",
    "# Example \n",
    "print(calculate_grade(90))  \n"
   ]
  },
  {
   "cell_type": "code",
   "execution_count": 5,
   "id": "43c31e0a-f3f3-4081-9307-a45f1762e7e2",
   "metadata": {},
   "outputs": [
    {
     "name": "stdout",
     "output_type": "stream",
     "text": [
      "True\n",
      "False\n"
     ]
    }
   ],
   "source": [
    "#3)\n",
    "# Prime Number\n",
    "def is_prime(number):\n",
    "    if number <= 1:\n",
    "        return False\n",
    "    for i in range(2, int(number ** 0.5) + 1):\n",
    "        if number % i == 0:\n",
    "            return False\n",
    "    return True\n",
    "\n",
    "# Example \n",
    "print(is_prime(11))  \n",
    "print(is_prime(4))\n"
   ]
  },
  {
   "cell_type": "code",
   "execution_count": 6,
   "id": "71e799f0-6333-4650-a343-957ec97e4d75",
   "metadata": {},
   "outputs": [
    {
     "name": "stdout",
     "output_type": "stream",
     "text": [
      "120\n"
     ]
    }
   ],
   "source": [
    "#4)\n",
    "# Factorial Number\n",
    "def factorial(n):\n",
    "    if n == 0:\n",
    "        return 1\n",
    "    else:\n",
    "        return n * factorial(n - 1)\n",
    "\n",
    "# Example\n",
    "print(factorial(5)) "
   ]
  },
  {
   "cell_type": "code",
   "execution_count": 8,
   "id": "396ff473-1fd0-4638-8420-2d02116f31fd",
   "metadata": {},
   "outputs": [
    {
     "name": "stdout",
     "output_type": "stream",
     "text": [
      "[0, 1, 1, 2, 3, 5, 8, 13, 21, 34]\n"
     ]
    }
   ],
   "source": [
    "#5)\n",
    "#Fibonacci Sequence\n",
    "def fibonacci(n):\n",
    "    if n <= 0:\n",
    "        return []\n",
    "    elif n == 1:\n",
    "        return [0]\n",
    "    elif n == 2:\n",
    "        return [0, 1]\n",
    "    else:\n",
    "        seq = [0, 1]\n",
    "        while len(seq) < n:\n",
    "            seq.append(seq[-1] + seq[-2])\n",
    "        return seq\n",
    "\n",
    "# Example \n",
    "print(fibonacci(10))"
   ]
  },
  {
   "cell_type": "code",
   "execution_count": 10,
   "id": "cd119e5c-430c-42e4-9d9b-c373a4823cb0",
   "metadata": {},
   "outputs": [
    {
     "name": "stdout",
     "output_type": "stream",
     "text": [
      "True\n"
     ]
    }
   ],
   "source": [
    "#6)\n",
    "#Palindrome Check\n",
    "def is_palindrome(s):\n",
    "    return s == s[::-1]\n",
    "\n",
    "# Example\n",
    "print(is_palindrome(\"racecar\"))   "
   ]
  },
  {
   "cell_type": "code",
   "execution_count": 13,
   "id": "834b3926-31f3-4b0b-8b22-a11db25815c7",
   "metadata": {},
   "outputs": [
    {
     "name": "stdout",
     "output_type": "stream",
     "text": [
      "15\n"
     ]
    }
   ],
   "source": [
    "#7)\n",
    "#Sum of List Elements\n",
    "def sum_of_list(lst):\n",
    "    return sum(lst)\n",
    "\n",
    "# Example \n",
    "print(sum_of_list([1, 2, 3, 4, 5]))  \n"
   ]
  },
  {
   "cell_type": "code",
   "execution_count": 15,
   "id": "eb85d2ad-9295-45af-aa42-723fffe8fb08",
   "metadata": {},
   "outputs": [
    {
     "name": "stdout",
     "output_type": "stream",
     "text": [
      "98\n"
     ]
    }
   ],
   "source": [
    "#8)\n",
    "#Find Maximum in List\n",
    "def find_max(lst):\n",
    "    if not lst:\n",
    "        return None\n",
    "    return max(lst)\n",
    "\n",
    "# Example \n",
    "print(find_max([3, 5, 7, 2, 8,25,56,98]))  \n",
    "           "
   ]
  },
  {
   "cell_type": "code",
   "execution_count": 16,
   "id": "74c7b337-e477-4c00-972c-a8aa4f8e8274",
   "metadata": {},
   "outputs": [
    {
     "name": "stdout",
     "output_type": "stream",
     "text": [
      "Positive\n",
      "Negative\n",
      "Zero\n"
     ]
    }
   ],
   "source": [
    "#9)\n",
    "#Number is Positive, Negative, or Zero\n",
    "def check_number(num):\n",
    "    if num > 0:\n",
    "        return \"Positive\"\n",
    "    elif num < 0:\n",
    "        return \"Negative\"\n",
    "    else:\n",
    "        return \"Zero\"\n",
    "\n",
    "# Example \n",
    "print(check_number(10))   \n",
    "print(check_number(-5))   \n",
    "print(check_number(0))   "
   ]
  },
  {
   "cell_type": "code",
   "execution_count": 17,
   "id": "3326460c-8f1e-455a-bf11-02f7ddea2707",
   "metadata": {},
   "outputs": [
    {
     "name": "stdout",
     "output_type": "stream",
     "text": [
      "3\n"
     ]
    }
   ],
   "source": [
    "#10)\n",
    "#Count Vowels in String\n",
    "def count_vowels(s):\n",
    "    vowels = \"aeiou\"\n",
    "    count = 0\n",
    "    for char in s:\n",
    "        if char in vowels:\n",
    "            count += 1\n",
    "    return count\n",
    "\n",
    "# Example \n",
    "print(count_vowels(\"hello world\"))  # Output: 3\n"
   ]
  }
 ],
 "metadata": {
  "kernelspec": {
   "display_name": "Python 3 (ipykernel)",
   "language": "python",
   "name": "python3"
  },
  "language_info": {
   "codemirror_mode": {
    "name": "ipython",
    "version": 3
   },
   "file_extension": ".py",
   "mimetype": "text/x-python",
   "name": "python",
   "nbconvert_exporter": "python",
   "pygments_lexer": "ipython3",
   "version": "3.11.7"
  }
 },
 "nbformat": 4,
 "nbformat_minor": 5
}

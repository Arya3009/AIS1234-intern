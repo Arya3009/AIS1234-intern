{
 "cells": [
  {
   "cell_type": "markdown",
   "id": "dcea072f-d8b4-47d0-a51f-5f9c79e7ec97",
   "metadata": {},
   "source": [
    "Pass Statement:Function definitions cannot be empty, but if you for some reason have a function definition with no content, put in the pass statement to avoid getting an error."
   ]
  },
  {
   "cell_type": "markdown",
   "id": "fbe3132c-c0a6-455d-9d0f-5565d5dd3edd",
   "metadata": {},
   "source": [
    "EXAMPLES"
   ]
  },
  {
   "cell_type": "code",
   "execution_count": 2,
   "id": "6236f377-17f2-46dd-a49c-61641903adac",
   "metadata": {},
   "outputs": [
    {
     "name": "stdout",
     "output_type": "stream",
     "text": [
      "Odd number: 1\n",
      "Odd number: 3\n"
     ]
    }
   ],
   "source": [
    "#1)\n",
    "for i in range(5):\n",
    "    if i % 2 == 0:\n",
    "        pass\n",
    "    else:\n",
    "        print(f\"Odd number: {i}\")"
   ]
  },
  {
   "cell_type": "code",
   "execution_count": 11,
   "id": "9a85e3b7-01ee-4f0a-8665-cd96b8aaff3f",
   "metadata": {},
   "outputs": [
    {
     "name": "stdout",
     "output_type": "stream",
     "text": [
      "b\n",
      "c\n",
      "d\n"
     ]
    }
   ],
   "source": [
    "#2)\n",
    "li =['a', 'b', 'c', 'd']\n",
    "for i in li:\n",
    "\tif(i =='a'):\n",
    "\t\tpass\n",
    "\telse:\n",
    "\t\tprint(i)"
   ]
  },
  {
   "cell_type": "code",
   "execution_count": 15,
   "id": "48eb2590-bf66-4609-94f3-bd8170009e6b",
   "metadata": {},
   "outputs": [
    {
     "name": "stdout",
     "output_type": "stream",
     "text": [
      "Not reached pass keyword:  Python\n",
      "Not reached pass keyword:  Placeholder\n",
      "Not reached pass keyword:  Statement\n"
     ]
    }
   ],
   "source": [
    "#3)\n",
    "sequence = {\"Python\", \"Pass\", \"Statement\", \"Placeholder\"}  \n",
    "for value in sequence:  \n",
    "    if value == \"Pass\":  \n",
    "        pass  \n",
    "    else:  \n",
    "        print(\"Not reached pass keyword: \", value)  "
   ]
  },
  {
   "cell_type": "code",
   "execution_count": null,
   "id": "ee5ed134-cb87-4e92-a9fe-bc3ac76f3be5",
   "metadata": {},
   "outputs": [],
   "source": []
  }
 ],
 "metadata": {
  "kernelspec": {
   "display_name": "Python 3 (ipykernel)",
   "language": "python",
   "name": "python3"
  },
  "language_info": {
   "codemirror_mode": {
    "name": "ipython",
    "version": 3
   },
   "file_extension": ".py",
   "mimetype": "text/x-python",
   "name": "python",
   "nbconvert_exporter": "python",
   "pygments_lexer": "ipython3",
   "version": "3.11.7"
  }
 },
 "nbformat": 4,
 "nbformat_minor": 5
}

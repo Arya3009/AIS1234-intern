{
 "cells": [
  {
   "cell_type": "markdown",
   "id": "214a2e58-ce5e-4ab8-8c6b-4bfeaf5199c7",
   "metadata": {},
   "source": [
    "Continue Statement: It is use for skip the current condition and continue to the next condition."
   ]
  },
  {
   "cell_type": "markdown",
   "id": "0afb5bad-fc22-48f9-a877-ee2ec6d1a906",
   "metadata": {},
   "source": [
    "EXAMPLES"
   ]
  },
  {
   "cell_type": "code",
   "execution_count": 2,
   "id": "021da842-62b6-4f51-b3e2-54697da91940",
   "metadata": {},
   "outputs": [
    {
     "name": "stdout",
     "output_type": "stream",
     "text": [
      "2\n",
      "4\n",
      "6\n",
      "8\n",
      "10\n"
     ]
    }
   ],
   "source": [
    "#1)\n",
    "for i in range(1, 11):\n",
    "    if i % 2 == 1:  \n",
    "        continue     \n",
    "    print(i)"
   ]
  },
  {
   "cell_type": "code",
   "execution_count": 4,
   "id": "7ecc59ce-4893-49c8-96e2-f8273016eb61",
   "metadata": {},
   "outputs": [
    {
     "name": "stdout",
     "output_type": "stream",
     "text": [
      "Monday\n",
      "Tuesday\n",
      "Thursday\n",
      "Friday\n",
      "Saturday\n"
     ]
    }
   ],
   "source": [
    "#2)\n",
    "days = [\"Monday\", \"Tuesday\", \"Wednesday\", \"Thursday\", \"Friday\", \"Saturday\", \"Sunday\"]\n",
    "for day in days:\n",
    "    if day in [\"Wednesday\", \"Sunday\"]:\n",
    "        continue\n",
    "    print(day)"
   ]
  },
  {
   "cell_type": "code",
   "execution_count": 5,
   "id": "118fc376-7ed0-4b19-a6a0-a5ea27c331c1",
   "metadata": {},
   "outputs": [
    {
     "name": "stdout",
     "output_type": "stream",
     "text": [
      "G\n",
      "k\n",
      "s\n",
      "f\n",
      "o\n",
      "r\n",
      "g\n",
      "k\n",
      "s\n"
     ]
    }
   ],
   "source": [
    "#3)\n",
    "for var in \"Geeksforgeeks\":\n",
    "\tif var == \"e\":\n",
    "\t\tcontinue\n",
    "\tprint(var)"
   ]
  },
  {
   "cell_type": "code",
   "execution_count": 6,
   "id": "ba786f72-a7da-46c6-bfe1-20cec40f9ca0",
   "metadata": {},
   "outputs": [
    {
     "name": "stdout",
     "output_type": "stream",
     "text": [
      "1 2 3 4 5 7 8 9 10 "
     ]
    }
   ],
   "source": [
    "#4)\n",
    "for i in range(1, 11):\n",
    "\tif i == 6:\n",
    "\t\tcontinue\n",
    "\telse:\n",
    "\t\tprint(i, end=\" \")\n"
   ]
  },
  {
   "cell_type": "code",
   "execution_count": null,
   "id": "b48b4381-9411-40cf-8df1-0cf7a89bc99a",
   "metadata": {},
   "outputs": [],
   "source": []
  }
 ],
 "metadata": {
  "kernelspec": {
   "display_name": "Python 3 (ipykernel)",
   "language": "python",
   "name": "python3"
  },
  "language_info": {
   "codemirror_mode": {
    "name": "ipython",
    "version": 3
   },
   "file_extension": ".py",
   "mimetype": "text/x-python",
   "name": "python",
   "nbconvert_exporter": "python",
   "pygments_lexer": "ipython3",
   "version": "3.11.7"
  }
 },
 "nbformat": 4,
 "nbformat_minor": 5
}

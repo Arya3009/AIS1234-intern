{
 "cells": [
  {
   "cell_type": "markdown",
   "id": "12c7e6fb-f54d-4d0d-830e-c2a3fc8a8b13",
   "metadata": {},
   "source": [
    "User defined functions: Function is a define as def keyword.A function is a set of statements that take inputs, do some specific computation, and produce output.These functions are known as user defines functions."
   ]
  },
  {
   "cell_type": "markdown",
   "id": "42ef1f35-ca73-48ba-98ae-5db58aab8c23",
   "metadata": {},
   "source": [
    "EXAMPLES"
   ]
  },
  {
   "cell_type": "code",
   "execution_count": 4,
   "id": "d57fe661-bb0d-4a01-a451-ab65516bb49c",
   "metadata": {},
   "outputs": [
    {
     "name": "stdout",
     "output_type": "stream",
     "text": [
      "3.0\n"
     ]
    }
   ],
   "source": [
    "#1).\n",
    "#Mean\n",
    "def mean(data):\n",
    "    return sum(data) / len(data) if data else 0\n",
    "    # Example \n",
    "print(mean([1, 2, 3, 4, 5])) \n"
   ]
  },
  {
   "cell_type": "code",
   "execution_count": 9,
   "id": "8074f54c-3c09-44fc-aa08-17ddf11c50db",
   "metadata": {},
   "outputs": [
    {
     "name": "stdout",
     "output_type": "stream",
     "text": [
      "2.5\n"
     ]
    }
   ],
   "source": [
    "#2)\n",
    "#Variance\n",
    "def variance(data):\n",
    "    if len(data) < 2:\n",
    "        return 0\n",
    "    mu = mean(data)\n",
    "    return sum((x - mu) ** 2 for x in data) / (len(data) - 1)\n",
    "\n",
    "# Example \n",
    "print(variance([1, 2, 3, 4, 5]))"
   ]
  },
  {
   "cell_type": "code",
   "execution_count": 10,
   "id": "23194d20-03f5-4ad6-8157-09dff1b17896",
   "metadata": {},
   "outputs": [
    {
     "name": "stdout",
     "output_type": "stream",
     "text": [
      "1.5811388300841898\n"
     ]
    }
   ],
   "source": [
    "#3)\n",
    "#Standard deviation\n",
    "def standard_deviation(data):\n",
    "    return variance(data) ** 0.5\n",
    "# Example\n",
    "print(standard_deviation([1, 2, 3, 4, 5]))  "
   ]
  },
  {
   "cell_type": "code",
   "execution_count": 12,
   "id": "5406bdd6-d532-4504-8817-a38fadf08ee4",
   "metadata": {},
   "outputs": [
    {
     "name": "stdout",
     "output_type": "stream",
     "text": [
      "3.5\n"
     ]
    }
   ],
   "source": [
    "#4)\n",
    "#Median\n",
    " #Median\n",
    "def median(data):\n",
    "    sorted_data = sorted(data)\n",
    "    n = len(sorted_data)\n",
    "    if n == 0:\n",
    "        return None\n",
    "    midpoint = n // 2\n",
    "    if n % 2 == 1:\n",
    "        return sorted_data[midpoint]\n",
    "    else:\n",
    "        return (sorted_data[midpoint - 1] + sorted_data[midpoint]) / 2\n",
    "\n",
    "# Example \n",
    "print(median([1, 2, 3, 4, 5, 6]))  # Output: 3.5\n"
   ]
  },
  {
   "cell_type": "code",
   "execution_count": 16,
   "id": "903dccc7-2c20-4359-a1d4-0b133fec3c9d",
   "metadata": {},
   "outputs": [
    {
     "name": "stdout",
     "output_type": "stream",
     "text": [
      "The mode is: 3\n"
     ]
    }
   ],
   "source": [
    "#5)\n",
    "#Mode\n",
    "from collections import Counter\n",
    "\n",
    "def find_mode(numbers):\n",
    "    mode_result = mode(numbers)\n",
    "    if isinstance(mode_result, list):\n",
    "        print(\"The modes are:\", mode_result)\n",
    "    else:\n",
    "        print(\"The mode is:\", mode_result)\n",
    "numbers = [1, 2, 2, 3, 3, 3, 4, 4, 5]\n",
    "find_mode(numbers)\n"
   ]
  },
  {
   "cell_type": "code",
   "execution_count": 17,
   "id": "ed19a96e-47ca-483a-8698-38006e9d190a",
   "metadata": {},
   "outputs": [
    {
     "name": "stdout",
     "output_type": "stream",
     "text": [
      "4\n"
     ]
    }
   ],
   "source": [
    "#6)\n",
    "#Range\n",
    "def data_range(data):\n",
    "    return max(data) - min(data) if data else 0\n",
    "\n",
    "# Example \n",
    "print(data_range([1, 2, 3, 4, 5]))  \n"
   ]
  },
  {
   "cell_type": "code",
   "execution_count": 18,
   "id": "28b436d6-1356-40ce-8564-a0ce1a7bec27",
   "metadata": {},
   "outputs": [
    {
     "name": "stdout",
     "output_type": "stream",
     "text": [
      "(27.5, 55, 82.5)\n"
     ]
    }
   ],
   "source": [
    "#7)\n",
    "#Quartiles\n",
    "def quartiles(data):\n",
    "    if not data:\n",
    "        return None, None, None\n",
    "    sorted_data = sorted(data)\n",
    "    q2 = median(sorted_data)\n",
    "    n = len(sorted_data)\n",
    "    if n % 2 == 0:\n",
    "        lower_half = sorted_data[:n // 2]\n",
    "        upper_half = sorted_data[n // 2:]\n",
    "    else:\n",
    "        lower_half = sorted_data[:n // 2]\n",
    "        upper_half = sorted_data[n // 2 + 1:]\n",
    "    q1 = median(lower_half)\n",
    "    q3 = median(upper_half)\n",
    "    return q1, q2, q3\n",
    "\n",
    "# Example \n",
    "print(quartiles([11, 22, 33, 44, 55, 66, 77, 88, 99]))  "
   ]
  },
  {
   "cell_type": "code",
   "execution_count": 19,
   "id": "06fe0235-d390-4723-a80b-b69a721d1117",
   "metadata": {},
   "outputs": [
    {
     "name": "stdout",
     "output_type": "stream",
     "text": [
      "48.5\n"
     ]
    }
   ],
   "source": [
    "#8)\n",
    "#) Interquartile Range\n",
    "def iqr(data):\n",
    "    q1, _, q3 = quartiles(data)\n",
    "    return q3 - q1\n",
    "\n",
    "# Example \n",
    "print(iqr([21, 42, 32, 54, 35, 76, 75, 88, 90]))  "
   ]
  },
  {
   "cell_type": "code",
   "execution_count": 21,
   "id": "69eb703d-9a12-4fff-b0f5-b8a2d3e4d9d5",
   "metadata": {},
   "outputs": [
    {
     "name": "stdout",
     "output_type": "stream",
     "text": [
      "1.0\n"
     ]
    }
   ],
   "source": [
    "#9)\n",
    "#) Covariance\n",
    "def mean(data):\n",
    "    return sum(data) / len(data)\n",
    "def covariance(x, y):\n",
    "    if len(x) != len(y) or len(x) == 0:\n",
    "        return None\n",
    "    x_mean = mean(x)\n",
    "    y_mean = mean(y)\n",
    "    covariance = sum((x_i - x_mean) * (y_i - y_mean) for x_i, y_i in zip(x, y)) / (len(x) - 1)\n",
    "    return covariance\n",
    "\n",
    "# Example \n",
    "print(covariance([1, 2, 3], [4, 5, 6]))  \n"
   ]
  },
  {
   "cell_type": "code",
   "execution_count": 22,
   "id": "66a75de1-d7dc-416d-8d04-285a49419dd4",
   "metadata": {},
   "outputs": [
    {
     "name": "stdout",
     "output_type": "stream",
     "text": [
      "1.5\n"
     ]
    }
   ],
   "source": [
    "#10)\n",
    "def mean(data):\n",
    "    return sum(data) / len(data)\n",
    "def standard_deviation(data):\n",
    "    mean_val = mean(data)\n",
    "    variance = sum((x - mean_val) ** 2 for x in data) / len(data)\n",
    "    return variance ** 0.5\n",
    "def covariance(x, y):\n",
    "    if len(x) != len(y) or len(x) == 0:\n",
    "        return None\n",
    "    x_mean = mean(x)\n",
    "    y_mean = mean(y)\n",
    "    covariance = sum((x_i - x_mean) * (y_i - y_mean) for x_i, y_i in zip(x, y)) / (len(x) - 1)\n",
    "    return covariance\n",
    "def correlation(x, y):\n",
    "    if len(x) != len(y) or len(x) == 0:\n",
    "        return None\n",
    "    return covariance(x, y) / (standard_deviation(x) * standard_deviation(y))\n",
    "\n",
    "# Example \n",
    "print(correlation([1, 2, 3], [4, 5, 6])) \n"
   ]
  }
 ],
 "metadata": {
  "kernelspec": {
   "display_name": "Python 3 (ipykernel)",
   "language": "python",
   "name": "python3"
  },
  "language_info": {
   "codemirror_mode": {
    "name": "ipython",
    "version": 3
   },
   "file_extension": ".py",
   "mimetype": "text/x-python",
   "name": "python",
   "nbconvert_exporter": "python",
   "pygments_lexer": "ipython3",
   "version": "3.11.7"
  }
 },
 "nbformat": 4,
 "nbformat_minor": 5
}

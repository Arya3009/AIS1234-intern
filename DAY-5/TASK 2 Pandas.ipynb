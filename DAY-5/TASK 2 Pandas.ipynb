{
 "cells": [
  {
   "cell_type": "markdown",
   "id": "046465ce-4d60-4054-aed8-7bc93a490405",
   "metadata": {},
   "source": [
    "DataFrame Column and Row Selection (loc and iloc)\n",
    "loc is label-based, meaning that you have to specify rows and columns based on their labels.\n",
    "iloc is integer position-based, meaning that you have to specify rows and columns based on their integer positions."
   ]
  },
  {
   "cell_type": "code",
   "execution_count": 1,
   "id": "643b6530-7518-44ca-ac00-adbfd1d4f8cc",
   "metadata": {},
   "outputs": [
    {
     "name": "stdout",
     "output_type": "stream",
     "text": [
      "DataFrame df1:\n",
      "     A  B  C\n",
      "Tim  0  1  2\n",
      "Tom  3  4  5\n",
      "\n",
      "DataFrame df2:\n",
      "      A  C  D\n",
      "Tim   0  1  2\n",
      "Kate  3  4  5\n",
      "Tom   6  7  8\n"
     ]
    }
   ],
   "source": [
    "import pandas as pd\n",
    "import numpy as np\n",
    "df1 = pd.DataFrame(\n",
    "    np.arange(6).reshape(2, 3),\n",
    "    columns=list(\"ABC\"),\n",
    "    index=[\"Tim\", \"Tom\"]\n",
    ")\n",
    "df2 = pd.DataFrame(\n",
    "    np.arange(9).reshape(3, 3),\n",
    "    columns=list(\"ACD\"),\n",
    "    index=[\"Tim\", \"Kate\", \"Tom\"]\n",
    ")\n",
    "print(\"DataFrame df1:\")\n",
    "print(df1)\n",
    "print(\"\\nDataFrame df2:\")\n",
    "print(df2)"
   ]
  },
  {
   "cell_type": "code",
   "execution_count": 2,
   "id": "b4018800-dfb6-4cf3-9c6a-f920e6b6e824",
   "metadata": {},
   "outputs": [
    {
     "name": "stdout",
     "output_type": "stream",
     "text": [
      "Column 'A' from df1:\n",
      "Tim    0\n",
      "Tom    3\n",
      "Name: A, dtype: int32\n"
     ]
    }
   ],
   "source": [
    "# Selecting column 'A' from df1\n",
    "print(\"Column 'A' from df1:\")\n",
    "print(df1['A'])"
   ]
  },
  {
   "cell_type": "code",
   "execution_count": 3,
   "id": "7e19b252-08e9-44d3-81c1-4be7ed27f0dd",
   "metadata": {},
   "outputs": [
    {
     "name": "stdout",
     "output_type": "stream",
     "text": [
      "Columns 'A' and 'B' from df1:\n",
      "     A  B\n",
      "Tim  0  1\n",
      "Tom  3  4\n"
     ]
    }
   ],
   "source": [
    "# Selecting columns 'A' and 'B' from df1\n",
    "print(\"Columns 'A' and 'B' from df1:\")\n",
    "print(df1[['A', 'B']])"
   ]
  },
  {
   "cell_type": "code",
   "execution_count": 5,
   "id": "7d46e989-ba6a-476b-a20a-7cd166076ab8",
   "metadata": {},
   "outputs": [
    {
     "name": "stdout",
     "output_type": "stream",
     "text": [
      "Row 'Tim' from df1 using loc:\n",
      "A    0\n",
      "B    1\n",
      "C    2\n",
      "Name: Tim, dtype: int32\n"
     ]
    }
   ],
   "source": [
    "# Selecting row df1 using loc\n",
    "print(\"Row 'Tim' from df1 using loc:\")\n",
    "print(df1.loc['Tim'])"
   ]
  },
  {
   "cell_type": "code",
   "execution_count": 6,
   "id": "af56986f-8272-486d-ad20-04d23ec26478",
   "metadata": {},
   "outputs": [
    {
     "name": "stdout",
     "output_type": "stream",
     "text": [
      "First row from df1 using iloc:\n",
      "A    0\n",
      "B    1\n",
      "C    2\n",
      "Name: Tim, dtype: int32\n"
     ]
    }
   ],
   "source": [
    "# Selecting the first row  using iloc\n",
    "print(\"First row from df1 using iloc:\")\n",
    "print(df1.iloc[0])"
   ]
  },
  {
   "cell_type": "code",
   "execution_count": 8,
   "id": "0357e278-dc68-434a-b44f-eaf9c425bed4",
   "metadata": {},
   "outputs": [
    {
     "name": "stdout",
     "output_type": "stream",
     "text": [
      "   A  B   C\n",
      "0  1  5   9\n",
      "1  2  6  10\n",
      "2  3  7  11\n",
      "3  4  8  12\n"
     ]
    }
   ],
   "source": [
    "import pandas as pd\n",
    "data = {\n",
    "    'A': [1, 2, 3, 4],\n",
    "    'B': [5, 6, 7, 8],\n",
    "    'C': [9, 10, 11, 12]\n",
    "}\n",
    "df = pd.DataFrame(data)\n",
    "print(df)"
   ]
  },
  {
   "cell_type": "code",
   "execution_count": 9,
   "id": "025659bf-170c-42da-b6cd-aa09ef708b24",
   "metadata": {},
   "outputs": [
    {
     "name": "stdout",
     "output_type": "stream",
     "text": [
      "   A  B   C\n",
      "2  3  7  11\n",
      "3  4  8  12\n"
     ]
    }
   ],
   "source": [
    "# Select rows where column 'A' is greater than 2\n",
    "df_cond = df[df['A'] > 2]\n",
    "print(df_cond)"
   ]
  },
  {
   "cell_type": "code",
   "execution_count": 10,
   "id": "a8e86452-e84a-4186-96c9-d0de9da2b1aa",
   "metadata": {},
   "outputs": [
    {
     "name": "stdout",
     "output_type": "stream",
     "text": [
      "   A  B\n",
      "0  1  5\n",
      "1  2  6\n",
      "2  3  7\n",
      "3  4  8\n"
     ]
    }
   ],
   "source": [
    "# Delete column 'C'\n",
    "df.drop('C', axis=1, inplace=True)\n",
    "print(df)"
   ]
  },
  {
   "cell_type": "code",
   "execution_count": 11,
   "id": "4499636d-fe11-49fd-8ca7-3daba84317f1",
   "metadata": {},
   "outputs": [
    {
     "name": "stdout",
     "output_type": "stream",
     "text": [
      "   index  A  B\n",
      "0      0  1  5\n",
      "1      1  2  6\n",
      "2      2  3  7\n",
      "3      3  4  8\n"
     ]
    }
   ],
   "source": [
    "# Reset index to default integer index\n",
    "df.reset_index(inplace=True)\n",
    "print(df)"
   ]
  },
  {
   "cell_type": "code",
   "execution_count": 12,
   "id": "7fcdfc18-8ff1-4c09-943f-8a36206256b3",
   "metadata": {},
   "outputs": [
    {
     "name": "stdout",
     "output_type": "stream",
     "text": [
      "   index  B\n",
      "A          \n",
      "1      0  5\n",
      "2      1  6\n",
      "3      2  7\n",
      "4      3  8\n"
     ]
    }
   ],
   "source": [
    "# Set column 'A' as index\n",
    "df.set_index('A', inplace=True)\n",
    "print(df)"
   ]
  },
  {
   "cell_type": "code",
   "execution_count": 4,
   "id": "6c4631bf-68db-4f24-97e3-93a9b32ebbab",
   "metadata": {},
   "outputs": [
    {
     "name": "stdout",
     "output_type": "stream",
     "text": [
      "    A   B   C   E   F     G     H\n",
      "0  31   5  97  36  26   155  True\n",
      "1  12  86  10  98 -74  1032  True\n",
      "2  13   7  11  20   6    91  True\n",
      "3  14   8  12  22   6   112  True\n"
     ]
    }
   ],
   "source": [
    "import pandas as pd\n",
    "\n",
    "# Create DataFrame\n",
    "data = {\n",
    "    'A': [21, 2, 3, 4],\n",
    "    'B': [5, 86, 7, 8],\n",
    "    'C': [97, 10, 11, 12]\n",
    "}\n",
    "df = pd.DataFrame(data)\n",
    "\n",
    "# Row and column selection\n",
    "df_loc = df.loc[0:1, ['A', 'B']]\n",
    "df_iloc = df.iloc[0:2, 0:2]\n",
    "\n",
    "# Conditional selection\n",
    "df_cond = df[df['A'] > 2]\n",
    "\n",
    "# Column addition\n",
    "df['D'] = [13, 14, 15, 16]\n",
    "\n",
    "# Column deletion\n",
    "df.drop('D', axis=1, inplace=True)\n",
    "\n",
    "# Column update\n",
    "df['A'] = df['A'] + 10\n",
    "\n",
    "# Index operations\n",
    "df.set_index('A', inplace=True)\n",
    "df.reset_index(inplace=True)\n",
    "\n",
    "# Operations between columns\n",
    "df['E'] = df['A'] + df['B']\n",
    "df['F'] = df['A'] - df['B']\n",
    "df['G'] = df['A'] * df['B']\n",
    "df['H'] = (df['A'] > 2) | (df['B'] < 7)\n",
    "\n",
    "print(df)\n"
   ]
  },
  {
   "cell_type": "code",
   "execution_count": null,
   "id": "14b62b23-ceae-4846-a65c-d4912a97f86b",
   "metadata": {},
   "outputs": [],
   "source": []
  }
 ],
 "metadata": {
  "kernelspec": {
   "display_name": "Python 3 (ipykernel)",
   "language": "python",
   "name": "python3"
  },
  "language_info": {
   "codemirror_mode": {
    "name": "ipython",
    "version": 3
   },
   "file_extension": ".py",
   "mimetype": "text/x-python",
   "name": "python",
   "nbconvert_exporter": "python",
   "pygments_lexer": "ipython3",
   "version": "3.11.7"
  }
 },
 "nbformat": 4,
 "nbformat_minor": 5
}

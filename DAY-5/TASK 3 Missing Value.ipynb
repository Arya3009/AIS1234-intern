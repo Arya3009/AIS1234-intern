{
 "cells": [
  {
   "cell_type": "markdown",
   "id": "49287905-8d81-4c69-9c0c-857db7e3bd27",
   "metadata": {},
   "source": [
    "Missing Value:Missing Values You can use several methods to check for missing values in a DataFrame.\n",
    "isnull() and notnull(): These functions return a DataFrame of the same shape as the original, indicating whether each value is null or not."
   ]
  },
  {
   "cell_type": "code",
   "execution_count": 2,
   "id": "ca5d1c20-6c71-4220-98ae-d2e6bce7da7e",
   "metadata": {},
   "outputs": [
    {
     "name": "stdout",
     "output_type": "stream",
     "text": [
      "   A    B     C\n",
      "0  1  5.0   NaN\n",
      "1  2  9.0  10.0\n",
      "2  5  NaN  11.0\n",
      "3  4  8.0  13.0\n",
      "       A      B      C\n",
      "0  False  False   True\n",
      "1  False  False  False\n",
      "2  False   True  False\n",
      "3  False  False  False\n"
     ]
    }
   ],
   "source": [
    "import pandas as pd\n",
    "\n",
    "# Example DataFrame with missing values\n",
    "data = {\n",
    "    'A': [1, 2, 5, 4],\n",
    "    'B': [5, 9, None, 8],\n",
    "    'C': [None, 10, 11, 13]\n",
    "}\n",
    "df = pd.DataFrame(data)\n",
    "print(df)\n",
    "# Check for missing values\n",
    "missing_values = df.isnull()\n",
    "print(missing_values)"
   ]
  },
  {
   "cell_type": "code",
   "execution_count": 3,
   "id": "d69fd693-9128-4979-a2ed-0a3cf55c2a3e",
   "metadata": {},
   "outputs": [
    {
     "name": "stdout",
     "output_type": "stream",
     "text": [
      "   A    B     C\n",
      "1  2  9.0  10.0\n",
      "3  4  8.0  13.0\n"
     ]
    }
   ],
   "source": [
    "# Drop rows with any missing values\n",
    "df_drop_rows = df.dropna()\n",
    "print(df_drop_rows)"
   ]
  },
  {
   "cell_type": "code",
   "execution_count": 5,
   "id": "661f7795-80e8-487d-b035-8c4804bfb8aa",
   "metadata": {},
   "outputs": [
    {
     "name": "stdout",
     "output_type": "stream",
     "text": [
      "   A\n",
      "0  1\n",
      "1  2\n",
      "2  5\n",
      "3  4\n"
     ]
    }
   ],
   "source": [
    "# Drop columns with any missing values\n",
    "df_drop_cols = df.dropna(axis=1)\n",
    "print(df_drop_cols)"
   ]
  },
  {
   "cell_type": "code",
   "execution_count": 6,
   "id": "5e6e59df-a020-4155-a575-8e81e6917fec",
   "metadata": {},
   "outputs": [
    {
     "name": "stdout",
     "output_type": "stream",
     "text": [
      "   A    B     C\n",
      "0  1  5.0   0.0\n",
      "1  2  9.0  10.0\n",
      "2  5  0.0  11.0\n",
      "3  4  8.0  13.0\n"
     ]
    }
   ],
   "source": [
    "# Fill missing values with 0\n",
    "df_fill_0 = df.fillna(0)\n",
    "print(df_fill_0)"
   ]
  },
  {
   "cell_type": "code",
   "execution_count": 7,
   "id": "c052f7ea-706e-4f14-89ca-cfee1f5efc3d",
   "metadata": {},
   "outputs": [
    {
     "name": "stdout",
     "output_type": "stream",
     "text": [
      "   A         B          C\n",
      "0  1  5.000000  11.333333\n",
      "1  2  9.000000  10.000000\n",
      "2  5  7.333333  11.000000\n",
      "3  4  8.000000  13.000000\n"
     ]
    }
   ],
   "source": [
    "# Fill missing values with the mean of the column\n",
    "df_fill_mean = df.fillna(df.mean())\n",
    "print(df_fill_mean)"
   ]
  },
  {
   "cell_type": "code",
   "execution_count": 8,
   "id": "7c24801e-e900-4cfa-9fe3-05214c62984f",
   "metadata": {},
   "outputs": [
    {
     "name": "stdout",
     "output_type": "stream",
     "text": [
      "   A    B     C\n",
      "0  1  5.0  11.0\n",
      "1  2  9.0  10.0\n",
      "2  5  8.0  11.0\n",
      "3  4  8.0  13.0\n"
     ]
    }
   ],
   "source": [
    "# Fill missing values with the median of the column\n",
    "df_fill_median = df.fillna(df.median())\n",
    "print(df_fill_median)"
   ]
  },
  {
   "cell_type": "code",
   "execution_count": 9,
   "id": "48c19ebd-76b5-4b24-a824-c195b3947362",
   "metadata": {},
   "outputs": [
    {
     "name": "stdout",
     "output_type": "stream",
     "text": [
      "A    0\n",
      "B    1\n",
      "C    1\n",
      "dtype: int64\n"
     ]
    }
   ],
   "source": [
    "# Number of missing values per column\n",
    "missing_per_column = df.isnull().sum()\n",
    "print(missing_per_column)"
   ]
  },
  {
   "cell_type": "code",
   "execution_count": 10,
   "id": "c53ab030-11ee-41e6-acc0-b2805c05656c",
   "metadata": {},
   "outputs": [
    {
     "name": "stdout",
     "output_type": "stream",
     "text": [
      "Missing values:\n",
      "        A      B      C\n",
      "0  False  False  False\n",
      "1  False   True  False\n",
      "2   True  False  False\n",
      "3  False  False   True\n",
      "\n",
      "Missing values per column:\n",
      " A    1\n",
      "B    1\n",
      "C    1\n",
      "dtype: int64\n",
      "\n",
      "DataFrame after dropping rows with missing values:\n",
      "      A    B    C\n",
      "0  1.0  5.0  9.0\n",
      "\n",
      "DataFrame after dropping columns with missing values:\n",
      " Empty DataFrame\n",
      "Columns: []\n",
      "Index: [0, 1, 2, 3]\n",
      "\n",
      "DataFrame after filling missing values with 0:\n",
      "      A    B     C\n",
      "0  1.0  5.0   9.0\n",
      "1  2.0  0.0  10.0\n",
      "2  0.0  7.0  11.0\n",
      "3  4.0  8.0   0.0\n",
      "\n",
      "DataFrame after filling missing values with the mean:\n",
      "           A         B     C\n",
      "0  1.000000  5.000000   9.0\n",
      "1  2.000000  6.666667  10.0\n",
      "2  2.333333  7.000000  11.0\n",
      "3  4.000000  8.000000  10.0\n",
      "\n",
      "DataFrame after filling missing values with the median:\n",
      "      A    B     C\n",
      "0  1.0  5.0   9.0\n",
      "1  2.0  7.0  10.0\n",
      "2  2.0  7.0  11.0\n",
      "3  4.0  8.0  10.0\n"
     ]
    }
   ],
   "source": [
    "import pandas as pd\n",
    "\n",
    "# Example DataFrame with missing values\n",
    "data = {\n",
    "    'A': [1, 2, None, 4],\n",
    "    'B': [5, None, 7, 8],\n",
    "    'C': [9, 10, 11, None]\n",
    "}\n",
    "df = pd.DataFrame(data)\n",
    "\n",
    "# Checking for missing values\n",
    "missing_values = df.isnull()\n",
    "print(\"Missing values:\\n\", missing_values)\n",
    "\n",
    "# Number of missing values per column\n",
    "missing_per_column = df.isnull().sum()\n",
    "print(\"\\nMissing values per column:\\n\", missing_per_column)\n",
    "\n",
    "# Dropping rows with any missing values\n",
    "df_drop_rows = df.dropna()\n",
    "print(\"\\nDataFrame after dropping rows with missing values:\\n\", df_drop_rows)\n",
    "\n",
    "# Dropping columns with any missing values\n",
    "df_drop_cols = df.dropna(axis=1)\n",
    "print(\"\\nDataFrame after dropping columns with missing values:\\n\", df_drop_cols)\n",
    "\n",
    "# Filling missing values with 0\n",
    "df_fill_0 = df.fillna(0)\n",
    "print(\"\\nDataFrame after filling missing values with 0:\\n\", df_fill_0)\n",
    "\n",
    "# Filling missing values with the mean of the column\n",
    "df_fill_mean = df.fillna(df.mean())\n",
    "print(\"\\nDataFrame after filling missing values with the mean:\\n\", df_fill_mean)\n",
    "\n",
    "# Filling missing values with the median of the column\n",
    "df_fill_median = df.fillna(df.median())\n",
    "print(\"\\nDataFrame after filling missing values with the median:\\n\", df_fill_median)\n"
   ]
  },
  {
   "cell_type": "markdown",
   "id": "71d0dfc2-cd14-48fb-8688-3543e8b02de1",
   "metadata": {},
   "source": [
    "Values"
   ]
  },
  {
   "cell_type": "code",
   "execution_count": 11,
   "id": "5cb9ae4e-21f8-40d3-80ec-1b0ce5e2728d",
   "metadata": {},
   "outputs": [
    {
     "name": "stdout",
     "output_type": "stream",
     "text": [
      "0    21381376\n",
      "1    59969536\n",
      "2    88529281\n",
      "3       28561\n",
      "4       38416\n",
      "dtype: int64\n"
     ]
    }
   ],
   "source": [
    "import pandas as pd\n",
    "s = pd.Series([68,88,97,13,14])\n",
    "s_squared = s.apply(lambda x: x ** 4)\n",
    "print(s_squared)"
   ]
  },
  {
   "cell_type": "code",
   "execution_count": 12,
   "id": "0312e876-263f-4014-9887-323b2d9e05af",
   "metadata": {},
   "outputs": [
    {
     "name": "stdout",
     "output_type": "stream",
     "text": [
      "B\n",
      "foo    2\n",
      "Fat    1\n",
      "Far    1\n",
      "bar    1\n",
      "Name: count, dtype: int64\n"
     ]
    }
   ],
   "source": [
    "import pandas as pd\n",
    "df = pd.DataFrame({'B': ['Fat', 'Far', 'foo', 'bar', 'foo']})\n",
    "\n",
    "# Counting unique values in column 'A'\n",
    "value_counts = df['B'].value_counts()\n",
    "print(value_counts)"
   ]
  },
  {
   "cell_type": "code",
   "execution_count": 13,
   "id": "0ed9f3e2-c2aa-4256-877f-356746015ec3",
   "metadata": {},
   "outputs": [
    {
     "name": "stdout",
     "output_type": "stream",
     "text": [
      "['Fat' 'Far' 'foo' 'bar']\n"
     ]
    }
   ],
   "source": [
    "# Unique values in column 'A'\n",
    "unique_values = df['B'].unique()\n",
    "print(unique_values)\n"
   ]
  },
  {
   "cell_type": "code",
   "execution_count": 14,
   "id": "c0a68c98-8294-4e3e-8dfb-358a0c047119",
   "metadata": {},
   "outputs": [
    {
     "name": "stdout",
     "output_type": "stream",
     "text": [
      "          B\n",
      "count     5\n",
      "unique    4\n",
      "top     foo\n",
      "freq      2\n"
     ]
    }
   ],
   "source": [
    "# Descriptive statistics of the DataFrame\n",
    "description = df.describe()\n",
    "print(description)\n"
   ]
  },
  {
   "cell_type": "code",
   "execution_count": 15,
   "id": "32d779c7-5273-4a61-bfe2-cb429e93394d",
   "metadata": {},
   "outputs": [
    {
     "name": "stdout",
     "output_type": "stream",
     "text": [
      "4\n"
     ]
    }
   ],
   "source": [
    "# Number of unique values in column 'A'\n",
    "num_unique = df['B'].nunique()\n",
    "print(num_unique)\n"
   ]
  },
  {
   "cell_type": "code",
   "execution_count": 16,
   "id": "10afeadd-0bf6-45f5-9ece-1993b577c247",
   "metadata": {},
   "outputs": [
    {
     "name": "stdout",
     "output_type": "stream",
     "text": [
      "A\n",
      "5     1\n",
      "9     1\n",
      "7     1\n",
      "16    1\n",
      "25    1\n",
      "39    1\n",
      "46    1\n",
      "Name: count, dtype: int64\n"
     ]
    }
   ],
   "source": [
    "# Sample DataFrame\n",
    "df = pd.DataFrame({'A': [5,9,7,16,25,39,46]})\n",
    "value_counts = df['A'].value_counts()\n",
    "print(value_counts)"
   ]
  },
  {
   "cell_type": "code",
   "execution_count": 17,
   "id": "ba87cbd5-e1fd-49b6-a2ba-4e9fcc2de8f9",
   "metadata": {},
   "outputs": [
    {
     "name": "stdout",
     "output_type": "stream",
     "text": [
      "B\n",
      "6     1\n",
      "9     1\n",
      "71    1\n",
      "56    1\n",
      "38    1\n",
      "49    1\n",
      "64    1\n",
      "Name: count, dtype: int64\n"
     ]
    }
   ],
   "source": [
    "df = pd.DataFrame({'B': [6,9,71,56,38,49,64]})\n",
    "value_counts = df['B'].value_counts()\n",
    "print(value_counts)"
   ]
  },
  {
   "cell_type": "code",
   "execution_count": null,
   "id": "64db675d-56e6-447e-be32-5034bc7d421d",
   "metadata": {},
   "outputs": [],
   "source": []
  }
 ],
 "metadata": {
  "kernelspec": {
   "display_name": "Python 3 (ipykernel)",
   "language": "python",
   "name": "python3"
  },
  "language_info": {
   "codemirror_mode": {
    "name": "ipython",
    "version": 3
   },
   "file_extension": ".py",
   "mimetype": "text/x-python",
   "name": "python",
   "nbconvert_exporter": "python",
   "pygments_lexer": "ipython3",
   "version": "3.11.7"
  }
 },
 "nbformat": 4,
 "nbformat_minor": 5
}

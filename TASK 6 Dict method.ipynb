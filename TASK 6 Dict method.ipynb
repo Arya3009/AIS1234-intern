{
 "cells": [
  {
   "cell_type": "markdown",
   "id": "f294f69d-920b-4532-a241-249362d6103b",
   "metadata": {},
   "source": [
    "-Dictionary Method"
   ]
  },
  {
   "cell_type": "code",
   "execution_count": 1,
   "id": "5f7b4e61-69dc-404a-ab8b-c7543df0b9b7",
   "metadata": {},
   "outputs": [
    {
     "name": "stdout",
     "output_type": "stream",
     "text": [
      "{'Name': 'abc', 'Roll no': 3212}\n"
     ]
    }
   ],
   "source": [
    "# method 1:\n",
    "#Update()\n",
    "d1={\"Name\":\"abc\",\"Roll no\":1208}\n",
    "d1.update({\"Roll no\":3212})\n",
    "print(d1)"
   ]
  },
  {
   "cell_type": "code",
   "execution_count": 2,
   "id": "b9a1f5ff-e5d6-4d23-8acc-00bef0fe72b3",
   "metadata": {},
   "outputs": [
    {
     "name": "stdout",
     "output_type": "stream",
     "text": [
      "{'marks': 90.5, 'Roll no': 4321}\n"
     ]
    }
   ],
   "source": [
    "#method 2:\n",
    "#Values()\n",
    "d={\"marks\":90.5,\"Roll no\":4321}\n",
    "d.values()\n",
    "print(d)"
   ]
  },
  {
   "cell_type": "code",
   "execution_count": 6,
   "id": "17b39b61-c19d-4f65-88bf-1779bd061b89",
   "metadata": {},
   "outputs": [
    {
     "name": "stdout",
     "output_type": "stream",
     "text": [
      "[1, 2, 3]\n"
     ]
    }
   ],
   "source": [
    "#method 3:\n",
    "#keys()\n",
    "numbers = {1: 'one', 2: 'two', 3: 'three'}\n",
    "dictionaryKeys = numbers.keys()\n",
    "print(list(dictionaryKeys))"
   ]
  },
  {
   "cell_type": "code",
   "execution_count": 8,
   "id": "15182c98-6236-4aaf-a724-73fdd5868210",
   "metadata": {},
   "outputs": [
    {
     "name": "stdout",
     "output_type": "stream",
     "text": [
      "dict_items([('A', 'Geeks'), ('B', 4), ('C', 'Geeks')])\n"
     ]
    }
   ],
   "source": [
    "#method 4:\n",
    "#items()\n",
    "Dict1 = { 'A': 'Geeks', 'B': 4, 'C': 'Geeks' } \n",
    "print(Dict1.items()) \n"
   ]
  },
  {
   "cell_type": "code",
   "execution_count": 10,
   "id": "e4e80728-06b8-442f-88d9-9f9c4e9a4e40",
   "metadata": {},
   "outputs": [
    {
     "name": "stdout",
     "output_type": "stream",
     "text": [
      "{'u': 'vowel', 'a': 'vowel', 'i': 'vowel', 'o': 'vowel', 'e': 'vowel'}\n"
     ]
    }
   ],
   "source": [
    "#method 5:\n",
    "#from keys()\n",
    "keys = {'a', 'e', 'i', 'o', 'u' }\n",
    "value = 'vowel'\n",
    "vowels = dict.fromkeys(keys, value)\n",
    "print(vowels)"
   ]
  },
  {
   "cell_type": "code",
   "execution_count": 12,
   "id": "dcadc331-4e8a-4848-9289-e9af3e278144",
   "metadata": {},
   "outputs": [
    {
     "name": "stdout",
     "output_type": "stream",
     "text": [
      "Popped Marks: 72\n"
     ]
    }
   ],
   "source": [
    "#method 6:\n",
    "#Pop()\n",
    "marks = { 'Physics': 67, 'Chemistry': 72, 'Math': 89 }\n",
    "element = marks.pop('Chemistry')\n",
    "print('Popped Marks:', element)"
   ]
  },
  {
   "cell_type": "code",
   "execution_count": 13,
   "id": "4500485c-365c-433d-8936-61aee92ac447",
   "metadata": {},
   "outputs": [
    {
     "name": "stdout",
     "output_type": "stream",
     "text": [
      "Popped Item: ('grape', 'purple')\n"
     ]
    }
   ],
   "source": [
    "#method 7:\n",
    "#Pop item()\n",
    "fruits = { 'apple': 'red', 'banana': 'yellow', 'orange': 'orange', 'grape': 'purple' }\n",
    "popped_fruit = fruits.popitem()\n",
    "print('Popped Item:', popped_fruit)"
   ]
  },
  {
   "cell_type": "code",
   "execution_count": 14,
   "id": "7877da10-585a-44a8-bb14-5f0d354fe3c3",
   "metadata": {},
   "outputs": [
    {
     "name": "stdout",
     "output_type": "stream",
     "text": [
      "{}\n"
     ]
    }
   ],
   "source": [
    "#method 8:\n",
    "#Clear()\n",
    "d={\"marks\":90.5,\"Roll no\":4321}\n",
    "d.clear()\n",
    "print(d)\n"
   ]
  },
  {
   "cell_type": "code",
   "execution_count": 15,
   "id": "a81ef785-000c-4f31-8a1b-ea3ef7c21425",
   "metadata": {},
   "outputs": [
    {
     "name": "stdout",
     "output_type": "stream",
     "text": [
      "Copied Marks: {'Physics': 67, 'Maths': 87}\n"
     ]
    }
   ],
   "source": [
    "#method 9)\n",
    "#Copy()\n",
    "original_marks = {'Physics':67, 'Maths':87}\n",
    "copied_marks = original_marks.copy()\n",
    "print('Copied Marks:', copied_marks)"
   ]
  },
  {
   "cell_type": "code",
   "execution_count": 16,
   "id": "b9be77f9-ee94-412a-8727-e0312c8a83c7",
   "metadata": {},
   "outputs": [
    {
     "name": "stdout",
     "output_type": "stream",
     "text": [
      "Math Grade: 85\n"
     ]
    }
   ],
   "source": [
    "#method 10)\n",
    "#get()\n",
    "grades = {'math': 85, 'science': 90, 'history': 80}\n",
    "math_grade = grades.get('math')\n",
    "print('Math Grade:', math_grade)"
   ]
  },
  {
   "cell_type": "code",
   "execution_count": 18,
   "id": "d8517781-2298-4146-8d50-29ad0b82e074",
   "metadata": {},
   "outputs": [
    {
     "name": "stdout",
     "output_type": "stream",
     "text": [
      "Age =  22\n"
     ]
    }
   ],
   "source": [
    "#method 11)\n",
    "#setdefault()\n",
    "person = {'name': 'Phill', 'age': 22}\n",
    "age = person.setdefault('age',54)\n",
    "print('Age = ',age)"
   ]
  },
  {
   "cell_type": "code",
   "execution_count": 19,
   "id": "879512df-0627-4c22-a8d0-badf6665e9d3",
   "metadata": {},
   "outputs": [
    {
     "name": "stdout",
     "output_type": "stream",
     "text": [
      "Grades: {'math': 85, 'science': 90}\n"
     ]
    }
   ],
   "source": [
    "#method 12)\n",
    "#del()\n",
    "grades = {'math': 85, 'science': 90, 'history': 80}\n",
    "del grades['history']\n",
    "print('Grades:', grades)"
   ]
  },
  {
   "cell_type": "code",
   "execution_count": null,
   "id": "f4b26334-ed73-4e46-bb1c-9d7810efd5ba",
   "metadata": {},
   "outputs": [],
   "source": []
  }
 ],
 "metadata": {
  "kernelspec": {
   "display_name": "Python 3 (ipykernel)",
   "language": "python",
   "name": "python3"
  },
  "language_info": {
   "codemirror_mode": {
    "name": "ipython",
    "version": 3
   },
   "file_extension": ".py",
   "mimetype": "text/x-python",
   "name": "python",
   "nbconvert_exporter": "python",
   "pygments_lexer": "ipython3",
   "version": "3.11.7"
  }
 },
 "nbformat": 4,
 "nbformat_minor": 5
}
